{
 "cells": [
  {
   "cell_type": "markdown",
   "metadata": {},
   "source": [
    "# Overview\n",
    "\n",
    "This document details the development and evaluation of several supervised machine learning models that identify fraud transactions from a synthetic credit card dataset. It is written by Brandon Shelton in Python 3.7.2 on an AWS t2.2xlarge EC2 Linux instance, and contains 4 sections:\n",
    "\n",
    "1. **Load and Describe the Data**<br/><br/>\n",
    "\n",
    "2. **Creating a Plot**<br/><br/>\n",
    "\n",
    "3. **Data Wrangling**\n",
    "\n",
    "  - Identifying Reversal-Associated Records\n",
    "  - Identifying Multi-Swipes<br/><br/>\n",
    "  \n",
    "4. **Model Development**\n",
    "  - Feature Engineering\n",
    "    - Extracting date parts of `transactionDateTime`\n",
    "    - `customerId`-specific `transactionAmount` and \"time-between-transaction\" z-scores\n",
    "    - `customerId`-specific percent of total transactions and `transactionAmount` for each `merchantCategoryCode`\n",
    "  - Exploratory Data Analysis\n",
    "    - Time-series trending of fraudulent and non-fraudulent transactions\n",
    "    - Pareto of fraudulent transactions by `merchantCategoryCode`\n",
    "    - Box-plot differences between fraudulent and non-fraudulent transactions for all numeric variables\n",
    "  - ML Pre-Processing\n",
    "    - Initial feature selection\n",
    "    - Splitting the dataset between train and test sets\n",
    "    - Impute missing values in both train and test sets with the mode values from the train set\n",
    "    - One-hot encode categorical variables (ensuring both the train and test sets only contain the one-hot encoded train fields)\n",
    "    - Down-sample train set's majority class\n",
    "  - Random Forest Development\n",
    "    - Baseline Random Forest build\n",
    "    - Random Forest build with Recursive Feature Elimination (RFE)\n",
    "    - Random Forest build with grid search and RFE-selected features\n",
    "  - XGBoost Model Development\n",
    "  - Model Evaluations"
   ]
  },
  {
   "cell_type": "markdown",
   "metadata": {},
   "source": [
    "# 1. Load and Describe the Data\n",
    "\n",
    "### Loading the data\n",
    "\n",
    "The .zip file is downloaded from the specified Amazon S3 bucket and placed in a temporary directory. The json data contained in the transactions.txt file is then uncompressed and loaded as a Pandas dataframe into the Python environment. Once the data is loaded into session memory, the temporary directory is closed."
   ]
  },
  {
   "cell_type": "code",
   "execution_count": 1,
   "metadata": {},
   "outputs": [
    {
     "data": {
      "text/plain": [
       "(641914, 29)"
      ]
     },
     "execution_count": 1,
     "metadata": {},
     "output_type": "execute_result"
    }
   ],
   "source": [
    "from IPython.display import display\n",
    "\n",
    "# Read the zip file from the https link\n",
    "import urllib.request\n",
    "from zipfile import ZipFile\n",
    "from io import BytesIO\n",
    "\n",
    "url_loc = urllib.request.urlopen('https://s3.us-east-2.amazonaws.com/example.data/transactions.zip')\n",
    "zfile = ZipFile(BytesIO(url_loc.read()))\n",
    "\n",
    "# Create the temporary directory to store the zip file's content\n",
    "import tempfile\n",
    "\n",
    "temp_dir = tempfile.TemporaryDirectory()\n",
    "\n",
    "# Extract the zip file's content into the temporary directory\n",
    "zfile.extractall(temp_dir.name)\n",
    "\n",
    "# Read the zip file's JSON content into a Pandas dataframe\n",
    "import os\n",
    "import pandas as pd\n",
    "\n",
    "json_path = (temp_dir.name + '/' + os.listdir(temp_dir.name)[0])\n",
    "data = pd.read_json(json_path, lines = True)\n",
    "\n",
    "# Close the temporary directory\n",
    "import shutil\n",
    "shutil.rmtree(temp_dir.name)\n",
    "\n",
    "data.shape"
   ]
  },
  {
   "cell_type": "markdown",
   "metadata": {},
   "source": [
    "### Describing the data. \n",
    "\n",
    "Evaluate the amount of null values, empty strings values, unique values, and frequency ratio values for each column in the dataset. The frequency ratio is defined as the ratio of the first most frequent value of the column compared to the second most frequent. "
   ]
  },
  {
   "cell_type": "code",
   "execution_count": 2,
   "metadata": {},
   "outputs": [
    {
     "data": {
      "text/html": [
       "<div>\n",
       "<style scoped>\n",
       "    .dataframe tbody tr th:only-of-type {\n",
       "        vertical-align: middle;\n",
       "    }\n",
       "\n",
       "    .dataframe tbody tr th {\n",
       "        vertical-align: top;\n",
       "    }\n",
       "\n",
       "    .dataframe thead th {\n",
       "        text-align: right;\n",
       "    }\n",
       "</style>\n",
       "<table border=\"1\" class=\"dataframe\">\n",
       "  <thead>\n",
       "    <tr style=\"text-align: right;\">\n",
       "      <th></th>\n",
       "      <th>index</th>\n",
       "      <th>null_count</th>\n",
       "      <th>empty_string_count</th>\n",
       "      <th>unique_values</th>\n",
       "      <th>freqRatio</th>\n",
       "    </tr>\n",
       "  </thead>\n",
       "  <tbody>\n",
       "    <tr>\n",
       "      <th>0</th>\n",
       "      <td>echoBuffer</td>\n",
       "      <td>0</td>\n",
       "      <td>641914</td>\n",
       "      <td>1</td>\n",
       "      <td>NaN</td>\n",
       "    </tr>\n",
       "    <tr>\n",
       "      <th>1</th>\n",
       "      <td>merchantCity</td>\n",
       "      <td>0</td>\n",
       "      <td>641914</td>\n",
       "      <td>1</td>\n",
       "      <td>NaN</td>\n",
       "    </tr>\n",
       "    <tr>\n",
       "      <th>2</th>\n",
       "      <td>merchantState</td>\n",
       "      <td>0</td>\n",
       "      <td>641914</td>\n",
       "      <td>1</td>\n",
       "      <td>NaN</td>\n",
       "    </tr>\n",
       "    <tr>\n",
       "      <th>3</th>\n",
       "      <td>merchantZip</td>\n",
       "      <td>0</td>\n",
       "      <td>641914</td>\n",
       "      <td>1</td>\n",
       "      <td>NaN</td>\n",
       "    </tr>\n",
       "    <tr>\n",
       "      <th>4</th>\n",
       "      <td>posOnPremises</td>\n",
       "      <td>0</td>\n",
       "      <td>641914</td>\n",
       "      <td>1</td>\n",
       "      <td>NaN</td>\n",
       "    </tr>\n",
       "    <tr>\n",
       "      <th>5</th>\n",
       "      <td>recurringAuthInd</td>\n",
       "      <td>0</td>\n",
       "      <td>641914</td>\n",
       "      <td>1</td>\n",
       "      <td>NaN</td>\n",
       "    </tr>\n",
       "    <tr>\n",
       "      <th>6</th>\n",
       "      <td>acqCountry</td>\n",
       "      <td>0</td>\n",
       "      <td>3913</td>\n",
       "      <td>5</td>\n",
       "      <td>161.590340</td>\n",
       "    </tr>\n",
       "    <tr>\n",
       "      <th>7</th>\n",
       "      <td>posEntryMode</td>\n",
       "      <td>0</td>\n",
       "      <td>3345</td>\n",
       "      <td>6</td>\n",
       "      <td>1.323107</td>\n",
       "    </tr>\n",
       "    <tr>\n",
       "      <th>8</th>\n",
       "      <td>merchantCountryCode</td>\n",
       "      <td>0</td>\n",
       "      <td>624</td>\n",
       "      <td>5</td>\n",
       "      <td>241.114188</td>\n",
       "    </tr>\n",
       "    <tr>\n",
       "      <th>9</th>\n",
       "      <td>transactionType</td>\n",
       "      <td>0</td>\n",
       "      <td>589</td>\n",
       "      <td>4</td>\n",
       "      <td>36.939252</td>\n",
       "    </tr>\n",
       "    <tr>\n",
       "      <th>10</th>\n",
       "      <td>posConditionCode</td>\n",
       "      <td>0</td>\n",
       "      <td>287</td>\n",
       "      <td>4</td>\n",
       "      <td>4.231394</td>\n",
       "    </tr>\n",
       "    <tr>\n",
       "      <th>11</th>\n",
       "      <td>transactionDateTime</td>\n",
       "      <td>0</td>\n",
       "      <td>0</td>\n",
       "      <td>635472</td>\n",
       "      <td>1.000000</td>\n",
       "    </tr>\n",
       "    <tr>\n",
       "      <th>12</th>\n",
       "      <td>availableMoney</td>\n",
       "      <td>0</td>\n",
       "      <td>0</td>\n",
       "      <td>450690</td>\n",
       "      <td>1.022856</td>\n",
       "    </tr>\n",
       "    <tr>\n",
       "      <th>13</th>\n",
       "      <td>currentBalance</td>\n",
       "      <td>0</td>\n",
       "      <td>0</td>\n",
       "      <td>406990</td>\n",
       "      <td>1601.047619</td>\n",
       "    </tr>\n",
       "    <tr>\n",
       "      <th>14</th>\n",
       "      <td>transactionAmount</td>\n",
       "      <td>0</td>\n",
       "      <td>0</td>\n",
       "      <td>62735</td>\n",
       "      <td>153.991667</td>\n",
       "    </tr>\n",
       "    <tr>\n",
       "      <th>15</th>\n",
       "      <td>cardLast4Digits</td>\n",
       "      <td>0</td>\n",
       "      <td>0</td>\n",
       "      <td>5134</td>\n",
       "      <td>1.192820</td>\n",
       "    </tr>\n",
       "    <tr>\n",
       "      <th>16</th>\n",
       "      <td>accountNumber</td>\n",
       "      <td>0</td>\n",
       "      <td>0</td>\n",
       "      <td>5000</td>\n",
       "      <td>1.197089</td>\n",
       "    </tr>\n",
       "    <tr>\n",
       "      <th>17</th>\n",
       "      <td>customerId</td>\n",
       "      <td>0</td>\n",
       "      <td>0</td>\n",
       "      <td>5000</td>\n",
       "      <td>1.197089</td>\n",
       "    </tr>\n",
       "    <tr>\n",
       "      <th>18</th>\n",
       "      <td>merchantName</td>\n",
       "      <td>0</td>\n",
       "      <td>0</td>\n",
       "      <td>2493</td>\n",
       "      <td>1.001900</td>\n",
       "    </tr>\n",
       "    <tr>\n",
       "      <th>19</th>\n",
       "      <td>dateOfLastAddressChange</td>\n",
       "      <td>0</td>\n",
       "      <td>0</td>\n",
       "      <td>2186</td>\n",
       "      <td>1.038947</td>\n",
       "    </tr>\n",
       "    <tr>\n",
       "      <th>20</th>\n",
       "      <td>accountOpenDate</td>\n",
       "      <td>0</td>\n",
       "      <td>0</td>\n",
       "      <td>1826</td>\n",
       "      <td>1.209377</td>\n",
       "    </tr>\n",
       "    <tr>\n",
       "      <th>21</th>\n",
       "      <td>enteredCVV</td>\n",
       "      <td>0</td>\n",
       "      <td>0</td>\n",
       "      <td>980</td>\n",
       "      <td>1.276543</td>\n",
       "    </tr>\n",
       "    <tr>\n",
       "      <th>22</th>\n",
       "      <td>cardCVV</td>\n",
       "      <td>0</td>\n",
       "      <td>0</td>\n",
       "      <td>899</td>\n",
       "      <td>1.277740</td>\n",
       "    </tr>\n",
       "    <tr>\n",
       "      <th>23</th>\n",
       "      <td>currentExpDate</td>\n",
       "      <td>0</td>\n",
       "      <td>0</td>\n",
       "      <td>165</td>\n",
       "      <td>1.001904</td>\n",
       "    </tr>\n",
       "    <tr>\n",
       "      <th>24</th>\n",
       "      <td>merchantCategoryCode</td>\n",
       "      <td>0</td>\n",
       "      <td>0</td>\n",
       "      <td>19</td>\n",
       "      <td>1.595607</td>\n",
       "    </tr>\n",
       "    <tr>\n",
       "      <th>25</th>\n",
       "      <td>creditLimit</td>\n",
       "      <td>0</td>\n",
       "      <td>0</td>\n",
       "      <td>10</td>\n",
       "      <td>1.205629</td>\n",
       "    </tr>\n",
       "    <tr>\n",
       "      <th>26</th>\n",
       "      <td>cardPresent</td>\n",
       "      <td>0</td>\n",
       "      <td>0</td>\n",
       "      <td>2</td>\n",
       "      <td>1.129343</td>\n",
       "    </tr>\n",
       "    <tr>\n",
       "      <th>27</th>\n",
       "      <td>expirationDateKeyInMatch</td>\n",
       "      <td>0</td>\n",
       "      <td>0</td>\n",
       "      <td>2</td>\n",
       "      <td>661.449948</td>\n",
       "    </tr>\n",
       "    <tr>\n",
       "      <th>28</th>\n",
       "      <td>isFraud</td>\n",
       "      <td>0</td>\n",
       "      <td>0</td>\n",
       "      <td>2</td>\n",
       "      <td>55.796496</td>\n",
       "    </tr>\n",
       "  </tbody>\n",
       "</table>\n",
       "</div>"
      ],
      "text/plain": [
       "                       index  null_count  empty_string_count  unique_values  \\\n",
       "0                 echoBuffer           0              641914              1   \n",
       "1               merchantCity           0              641914              1   \n",
       "2              merchantState           0              641914              1   \n",
       "3                merchantZip           0              641914              1   \n",
       "4              posOnPremises           0              641914              1   \n",
       "5           recurringAuthInd           0              641914              1   \n",
       "6                 acqCountry           0                3913              5   \n",
       "7               posEntryMode           0                3345              6   \n",
       "8        merchantCountryCode           0                 624              5   \n",
       "9            transactionType           0                 589              4   \n",
       "10          posConditionCode           0                 287              4   \n",
       "11       transactionDateTime           0                   0         635472   \n",
       "12            availableMoney           0                   0         450690   \n",
       "13            currentBalance           0                   0         406990   \n",
       "14         transactionAmount           0                   0          62735   \n",
       "15           cardLast4Digits           0                   0           5134   \n",
       "16             accountNumber           0                   0           5000   \n",
       "17                customerId           0                   0           5000   \n",
       "18              merchantName           0                   0           2493   \n",
       "19   dateOfLastAddressChange           0                   0           2186   \n",
       "20           accountOpenDate           0                   0           1826   \n",
       "21                enteredCVV           0                   0            980   \n",
       "22                   cardCVV           0                   0            899   \n",
       "23            currentExpDate           0                   0            165   \n",
       "24      merchantCategoryCode           0                   0             19   \n",
       "25               creditLimit           0                   0             10   \n",
       "26               cardPresent           0                   0              2   \n",
       "27  expirationDateKeyInMatch           0                   0              2   \n",
       "28                   isFraud           0                   0              2   \n",
       "\n",
       "      freqRatio  \n",
       "0           NaN  \n",
       "1           NaN  \n",
       "2           NaN  \n",
       "3           NaN  \n",
       "4           NaN  \n",
       "5           NaN  \n",
       "6    161.590340  \n",
       "7      1.323107  \n",
       "8    241.114188  \n",
       "9     36.939252  \n",
       "10     4.231394  \n",
       "11     1.000000  \n",
       "12     1.022856  \n",
       "13  1601.047619  \n",
       "14   153.991667  \n",
       "15     1.192820  \n",
       "16     1.197089  \n",
       "17     1.197089  \n",
       "18     1.001900  \n",
       "19     1.038947  \n",
       "20     1.209377  \n",
       "21     1.276543  \n",
       "22     1.277740  \n",
       "23     1.001904  \n",
       "24     1.595607  \n",
       "25     1.205629  \n",
       "26     1.129343  \n",
       "27   661.449948  \n",
       "28    55.796496  "
      ]
     },
     "execution_count": 2,
     "metadata": {},
     "output_type": "execute_result"
    }
   ],
   "source": [
    "# Check for null values\n",
    "null_count = data.isnull().sum()\n",
    "\n",
    "# Check for empty string values\n",
    "empty_string_count = (data.values == '').sum(axis = 0)\n",
    "\n",
    "# Check for med_provname_choice values\n",
    "unique_values = data.nunique()\n",
    "\n",
    "# Put the three above items together\n",
    "explore_df = pd.DataFrame({'null_count': null_count,\n",
    "          'empty_string_count': empty_string_count,\n",
    "          'unique_values': unique_values})\\\n",
    ".reset_index()\\\n",
    ".sort_values(by = ['empty_string_count', 'unique_values'], ascending = False)\n",
    "\n",
    "# Check for freqRatio,\n",
    "# which is the ratio of the first most frequent value compared to the second most frequent\n",
    "import numpy as np\n",
    "\n",
    "frequency_ratios = pd.DataFrame([])\n",
    "def keep_top2(column_name):\n",
    "    try:\n",
    "        f2 = data.groupby(column_name).size().reset_index()\n",
    "        f2.columns = ['value', 'count']\n",
    "        f3 = f2.nlargest(2, 'count')\n",
    "        f4 = pd.DataFrame({'index': [column_name], 'freqRatio': f3['count'].iloc[0]/f3['count'].iloc[1]})\n",
    "        return f4\n",
    "    except:\n",
    "        f4 = pd.DataFrame({'index': [column_name], 'freqRatio': np.nan})\n",
    "        return f4\n",
    "\n",
    "for i in data.columns:\n",
    "    f5 = keep_top2(i)\n",
    "    frequency_ratios = frequency_ratios.append(f5)\n",
    "\n",
    "# Merge the freqRatio with explore_df and print\n",
    "pd.merge(explore_df, frequency_ratios, on = 'index')"
   ]
  },
  {
   "cell_type": "markdown",
   "metadata": {},
   "source": [
    "There are only 4 numeric fields included in the data, and a summary of their distributions is included below. From this data, we can tell that the credit limit balance ranges from 250 to 50,000, and the average transaction amount is 135.16, while its max is 1825.25."
   ]
  },
  {
   "cell_type": "code",
   "execution_count": 3,
   "metadata": {},
   "outputs": [
    {
     "data": {
      "text/html": [
       "<div>\n",
       "<style scoped>\n",
       "    .dataframe tbody tr th:only-of-type {\n",
       "        vertical-align: middle;\n",
       "    }\n",
       "\n",
       "    .dataframe tbody tr th {\n",
       "        vertical-align: top;\n",
       "    }\n",
       "\n",
       "    .dataframe thead th {\n",
       "        text-align: right;\n",
       "    }\n",
       "</style>\n",
       "<table border=\"1\" class=\"dataframe\">\n",
       "  <thead>\n",
       "    <tr style=\"text-align: right;\">\n",
       "      <th></th>\n",
       "      <th>availableMoney</th>\n",
       "      <th>creditLimit</th>\n",
       "      <th>currentBalance</th>\n",
       "      <th>transactionAmount</th>\n",
       "    </tr>\n",
       "  </thead>\n",
       "  <tbody>\n",
       "    <tr>\n",
       "      <th>count</th>\n",
       "      <td>641914.000000</td>\n",
       "      <td>641914.000000</td>\n",
       "      <td>641914.000000</td>\n",
       "      <td>641914.000000</td>\n",
       "    </tr>\n",
       "    <tr>\n",
       "      <th>mean</th>\n",
       "      <td>6652.828573</td>\n",
       "      <td>10697.210608</td>\n",
       "      <td>4044.382035</td>\n",
       "      <td>135.162497</td>\n",
       "    </tr>\n",
       "    <tr>\n",
       "      <th>std</th>\n",
       "      <td>9227.132275</td>\n",
       "      <td>11460.359133</td>\n",
       "      <td>5945.510224</td>\n",
       "      <td>147.053302</td>\n",
       "    </tr>\n",
       "    <tr>\n",
       "      <th>min</th>\n",
       "      <td>-1244.930000</td>\n",
       "      <td>250.000000</td>\n",
       "      <td>0.000000</td>\n",
       "      <td>0.000000</td>\n",
       "    </tr>\n",
       "    <tr>\n",
       "      <th>25%</th>\n",
       "      <td>1114.970000</td>\n",
       "      <td>5000.000000</td>\n",
       "      <td>502.442500</td>\n",
       "      <td>32.320000</td>\n",
       "    </tr>\n",
       "    <tr>\n",
       "      <th>50%</th>\n",
       "      <td>3578.165000</td>\n",
       "      <td>7500.000000</td>\n",
       "      <td>2151.860000</td>\n",
       "      <td>85.800000</td>\n",
       "    </tr>\n",
       "    <tr>\n",
       "      <th>75%</th>\n",
       "      <td>8169.185000</td>\n",
       "      <td>15000.000000</td>\n",
       "      <td>5005.890000</td>\n",
       "      <td>189.030000</td>\n",
       "    </tr>\n",
       "    <tr>\n",
       "      <th>max</th>\n",
       "      <td>50000.000000</td>\n",
       "      <td>50000.000000</td>\n",
       "      <td>47496.500000</td>\n",
       "      <td>1825.250000</td>\n",
       "    </tr>\n",
       "  </tbody>\n",
       "</table>\n",
       "</div>"
      ],
      "text/plain": [
       "       availableMoney    creditLimit  currentBalance  transactionAmount\n",
       "count   641914.000000  641914.000000   641914.000000      641914.000000\n",
       "mean      6652.828573   10697.210608     4044.382035         135.162497\n",
       "std       9227.132275   11460.359133     5945.510224         147.053302\n",
       "min      -1244.930000     250.000000        0.000000           0.000000\n",
       "25%       1114.970000    5000.000000      502.442500          32.320000\n",
       "50%       3578.165000    7500.000000     2151.860000          85.800000\n",
       "75%       8169.185000   15000.000000     5005.890000         189.030000\n",
       "max      50000.000000   50000.000000    47496.500000        1825.250000"
      ]
     },
     "execution_count": 3,
     "metadata": {},
     "output_type": "execute_result"
    }
   ],
   "source": [
    "# Evaluate summary statistics of relevant numeric columns\n",
    "data['creditLimit'] = data['creditLimit'].astype(np.float64)\n",
    "num_data = data.select_dtypes(include = ['float64'])\n",
    "num_data.describe()"
   ]
  },
  {
   "cell_type": "code",
   "execution_count": 4,
   "metadata": {},
   "outputs": [
    {
     "data": {
      "text/html": [
       "<div>\n",
       "<style scoped>\n",
       "    .dataframe tbody tr th:only-of-type {\n",
       "        vertical-align: middle;\n",
       "    }\n",
       "\n",
       "    .dataframe tbody tr th {\n",
       "        vertical-align: top;\n",
       "    }\n",
       "\n",
       "    .dataframe thead th {\n",
       "        text-align: right;\n",
       "    }\n",
       "</style>\n",
       "<table border=\"1\" class=\"dataframe\">\n",
       "  <thead>\n",
       "    <tr style=\"text-align: right;\">\n",
       "      <th></th>\n",
       "      <th>availableMoney</th>\n",
       "      <th>creditLimit</th>\n",
       "      <th>currentBalance</th>\n",
       "      <th>transactionAmount</th>\n",
       "    </tr>\n",
       "  </thead>\n",
       "  <tbody>\n",
       "    <tr>\n",
       "      <th>availableMoney</th>\n",
       "      <td>1.000000</td>\n",
       "      <td>0.856440</td>\n",
       "      <td>0.098895</td>\n",
       "      <td>-0.011723</td>\n",
       "    </tr>\n",
       "    <tr>\n",
       "      <th>creditLimit</th>\n",
       "      <td>0.856440</td>\n",
       "      <td>1.000000</td>\n",
       "      <td>0.598413</td>\n",
       "      <td>0.002400</td>\n",
       "    </tr>\n",
       "    <tr>\n",
       "      <th>currentBalance</th>\n",
       "      <td>0.098895</td>\n",
       "      <td>0.598413</td>\n",
       "      <td>1.000000</td>\n",
       "      <td>0.022820</td>\n",
       "    </tr>\n",
       "    <tr>\n",
       "      <th>transactionAmount</th>\n",
       "      <td>-0.011723</td>\n",
       "      <td>0.002400</td>\n",
       "      <td>0.022820</td>\n",
       "      <td>1.000000</td>\n",
       "    </tr>\n",
       "  </tbody>\n",
       "</table>\n",
       "</div>"
      ],
      "text/plain": [
       "                   availableMoney  creditLimit  currentBalance  \\\n",
       "availableMoney           1.000000     0.856440        0.098895   \n",
       "creditLimit              0.856440     1.000000        0.598413   \n",
       "currentBalance           0.098895     0.598413        1.000000   \n",
       "transactionAmount       -0.011723     0.002400        0.022820   \n",
       "\n",
       "                   transactionAmount  \n",
       "availableMoney             -0.011723  \n",
       "creditLimit                 0.002400  \n",
       "currentBalance              0.022820  \n",
       "transactionAmount           1.000000  "
      ]
     },
     "execution_count": 4,
     "metadata": {},
     "output_type": "execute_result"
    }
   ],
   "source": [
    "# Print the correlation matrix of relevant numeric columns\n",
    "num_data.corr()"
   ]
  },
  {
   "cell_type": "raw",
   "metadata": {},
   "source": [
    "A correlation matrix for the numeric variables is provided above, signifying a relationship between `creditLimit` and `availableMoney`. This correlation makes logical sense. Interestingly, there is no correlation between transactionAmount and any of the other numeric variables."
   ]
  },
  {
   "cell_type": "markdown",
   "metadata": {},
   "source": [
    "# 2. Creating a Plot\n",
    "\n",
    "The histogram plot below describes the distribution of the `transactionAmount`."
   ]
  },
  {
   "cell_type": "code",
   "execution_count": 5,
   "metadata": {},
   "outputs": [],
   "source": [
    "import matplotlib.pyplot as plt\n",
    "import scipy.stats\n",
    "\n",
    "\n",
    "def histogram_creator(column_name, transformation):\n",
    "    if transformation == 'box cox':\n",
    "        x = pd.Series(scipy.stats.boxcox(data[column_name] + .01)[0])\n",
    "        plot_title = 'Box Cox Distribution of Individual Transaction Amounts'\n",
    "        x_label = 'Box Cox Transformed Transaction Amount'\n",
    "        text_x = 15; text_y = 12500\n",
    "    else:\n",
    "        x = data[column_name]\n",
    "        plot_title = 'Distribution of Individual Transaction Amounts'\n",
    "        x_label = 'Transaction Dollar Amount'\n",
    "        text_x = 750; text_y = 50000\n",
    "\n",
    "    plt.rcParams['figure.figsize'] = (12,8)\n",
    "    plt.rcParams[\"font.size\"] = 18\n",
    "\n",
    "    result = plt.hist(x, bins = 100, color = 'y', edgecolor = 'k')\n",
    "    plt.axvline(x.mean(),\n",
    "                color = 'r',\n",
    "                linestyle = 'dashed',\n",
    "                linewidth = 1,\n",
    "                label = ('Mean: ' + str(round(x.mean(), 2))))\n",
    "    plt.axvline(x.median(),\n",
    "                color = 'b',\n",
    "                linestyle = 'dashed',\n",
    "                linewidth = 1,\n",
    "                label = ('Median: ' + str(round(x.median(), 2))))\n",
    "    plt.legend(loc = 'upper right')\n",
    "    plt.text(text_x, text_y,\n",
    "             ('Skewness Coeffiecient: ' +\n",
    "              str(round(scipy.stats.skew(x), 1))),\n",
    "             bbox = dict(boxstyle = 'square', alpha = 0.5))\n",
    "    plt.title(plot_title, color = 'k')\n",
    "    plt.xlabel(x_label, color = 'k')\n",
    "    plt.ylabel('Count of Transactions', color = 'k')"
   ]
  },
  {
   "cell_type": "code",
   "execution_count": 6,
   "metadata": {},
   "outputs": [
    {
     "data": {
      "image/png": "[encoded data removed]",
      "text/plain": [
       "<Figure size 864x576 with 1 Axes>"
      ]
     },
     "metadata": {
      "needs_background": "light"
     },
     "output_type": "display_data"
    }
   ],
   "source": [
    "histogram_creator(column_name = 'transactionAmount', transformation = 'none')"
   ]
  },
  {
   "cell_type": "markdown",
   "metadata": {},
   "source": [
    "The shape of this histogram indicates that the `transactionAmount` variable has an asymetrical disribution with positive skewness. This observation is further validated by the fact that the mean statistic sits to the right of the median statistic, and that the Pearson’s Skewness Coefficient is greater than zero (zero would mean no skewness, less than zero would mean negative skewness).\n",
    "\n",
    "This observation tells us that the higher range of the cost, the lower the amount of transactions that are likely to occur.\n",
    "\n",
    "Because the data’s distribution is positively skewed, it would need to be transformed into a more symetrical shape to be appropriately used in a parameteric (linear) model, since parametric models rely on a heavy assumption that data is normally distributed. A transformation option would be to use the Box Cox transformation, as presented below."
   ]
  },
  {
   "cell_type": "code",
   "execution_count": 7,
   "metadata": {},
   "outputs": [
    {
     "data": {
      "image/png": "[encoded data removed]",
      "text/plain": [
       "<Figure size 864x576 with 1 Axes>"
      ]
     },
     "metadata": {
      "needs_background": "light"
     },
     "output_type": "display_data"
    }
   ],
   "source": [
    "histogram_creator(column_name = 'transactionAmount', transformation = 'box cox')"
   ]
  },
  {
   "cell_type": "markdown",
   "metadata": {},
   "source": [
    "The distribution now looks much more normal, except for the very high count of $0 transactions still.\n",
    "\n",
    "Non-parametric models (e.g. decision tree, support vector machine) would not be constrained to using the `transactionAmount` value with its currently skewed distribtion, since non-parametric models do not assume a specific form of its data. For the time being, we will not keep the Box Cox transformation for `transactionAmount`."
   ]
  },
  {
   "cell_type": "markdown",
   "metadata": {},
   "source": [
    "# 3. Data Wrangling\n",
    "\n",
    "### Programmatically Identifying Reversal Transactions\n",
    "\n",
    "The first of two phenomenons that we need to address is the presence of transaction “reversals” in the data. i.e., a transaction record is followed by a second record that reverses the initial (anchor) transaction.\n",
    "\n",
    "Furthermore, it may be beneficial to identify the anchor transaction of all reversals too. The code below illustrates the programmatic process of identifying both the anchor and reversal records in the data, as well as giving the total count and dollar amounts for all reversal-associated transactions."
   ]
  },
  {
   "cell_type": "code",
   "execution_count": 8,
   "metadata": {},
   "outputs": [
    {
     "data": {
      "text/html": [
       "<div>\n",
       "<style scoped>\n",
       "    .dataframe tbody tr th:only-of-type {\n",
       "        vertical-align: middle;\n",
       "    }\n",
       "\n",
       "    .dataframe tbody tr th {\n",
       "        vertical-align: top;\n",
       "    }\n",
       "\n",
       "    .dataframe thead th {\n",
       "        text-align: right;\n",
       "    }\n",
       "</style>\n",
       "<table border=\"1\" class=\"dataframe\">\n",
       "  <thead>\n",
       "    <tr style=\"text-align: right;\">\n",
       "      <th></th>\n",
       "      <th>accountNumber</th>\n",
       "      <th>transactionDateTime</th>\n",
       "      <th>merchantName</th>\n",
       "      <th>transactionAmount</th>\n",
       "      <th>transactionType</th>\n",
       "      <th>rev_association</th>\n",
       "    </tr>\n",
       "  </thead>\n",
       "  <tbody>\n",
       "    <tr>\n",
       "      <th>583531</th>\n",
       "      <td>100547107</td>\n",
       "      <td>2016-08-22T20:35:41</td>\n",
       "      <td>Dunkin' Donuts #164240</td>\n",
       "      <td>223.42</td>\n",
       "      <td>PURCHASE</td>\n",
       "      <td>1</td>\n",
       "    </tr>\n",
       "    <tr>\n",
       "      <th>583532</th>\n",
       "      <td>100547107</td>\n",
       "      <td>2016-08-22T20:36:57</td>\n",
       "      <td>Dunkin' Donuts #164240</td>\n",
       "      <td>223.42</td>\n",
       "      <td>REVERSAL</td>\n",
       "      <td>1</td>\n",
       "    </tr>\n",
       "    <tr>\n",
       "      <th>583564</th>\n",
       "      <td>100547107</td>\n",
       "      <td>2016-12-19T19:11:13</td>\n",
       "      <td>Subway #540372</td>\n",
       "      <td>316.52</td>\n",
       "      <td>PURCHASE</td>\n",
       "      <td>1</td>\n",
       "    </tr>\n",
       "    <tr>\n",
       "      <th>583565</th>\n",
       "      <td>100547107</td>\n",
       "      <td>2016-12-19T19:11:57</td>\n",
       "      <td>Subway #540372</td>\n",
       "      <td>316.52</td>\n",
       "      <td>REVERSAL</td>\n",
       "      <td>1</td>\n",
       "    </tr>\n",
       "    <tr>\n",
       "      <th>104583</th>\n",
       "      <td>100634414</td>\n",
       "      <td>2016-06-13T20:49:02</td>\n",
       "      <td>Dunkin' Donuts #48174</td>\n",
       "      <td>85.51</td>\n",
       "      <td>PURCHASE</td>\n",
       "      <td>1</td>\n",
       "    </tr>\n",
       "    <tr>\n",
       "      <th>104585</th>\n",
       "      <td>100634414</td>\n",
       "      <td>2016-06-29T09:33:16</td>\n",
       "      <td>Dunkin' Donuts #48174</td>\n",
       "      <td>85.51</td>\n",
       "      <td>REVERSAL</td>\n",
       "      <td>1</td>\n",
       "    </tr>\n",
       "    <tr>\n",
       "      <th>104596</th>\n",
       "      <td>100634414</td>\n",
       "      <td>2016-11-22T07:17:10</td>\n",
       "      <td>Renaissance Hotel #696523</td>\n",
       "      <td>127.15</td>\n",
       "      <td>PURCHASE</td>\n",
       "      <td>1</td>\n",
       "    </tr>\n",
       "    <tr>\n",
       "      <th>104597</th>\n",
       "      <td>100634414</td>\n",
       "      <td>2016-11-22T07:19:32</td>\n",
       "      <td>Renaissance Hotel #696523</td>\n",
       "      <td>127.15</td>\n",
       "      <td>REVERSAL</td>\n",
       "      <td>1</td>\n",
       "    </tr>\n",
       "  </tbody>\n",
       "</table>\n",
       "</div>"
      ],
      "text/plain": [
       "        accountNumber  transactionDateTime               merchantName  \\\n",
       "583531      100547107  2016-08-22T20:35:41     Dunkin' Donuts #164240   \n",
       "583532      100547107  2016-08-22T20:36:57     Dunkin' Donuts #164240   \n",
       "583564      100547107  2016-12-19T19:11:13             Subway #540372   \n",
       "583565      100547107  2016-12-19T19:11:57             Subway #540372   \n",
       "104583      100634414  2016-06-13T20:49:02      Dunkin' Donuts #48174   \n",
       "104585      100634414  2016-06-29T09:33:16      Dunkin' Donuts #48174   \n",
       "104596      100634414  2016-11-22T07:17:10  Renaissance Hotel #696523   \n",
       "104597      100634414  2016-11-22T07:19:32  Renaissance Hotel #696523   \n",
       "\n",
       "        transactionAmount transactionType rev_association  \n",
       "583531             223.42        PURCHASE               1  \n",
       "583532             223.42        REVERSAL               1  \n",
       "583564             316.52        PURCHASE               1  \n",
       "583565             316.52        REVERSAL               1  \n",
       "104583              85.51        PURCHASE               1  \n",
       "104585              85.51        REVERSAL               1  \n",
       "104596             127.15        PURCHASE               1  \n",
       "104597             127.15        REVERSAL               1  "
      ]
     },
     "execution_count": 8,
     "metadata": {},
     "output_type": "execute_result"
    }
   ],
   "source": [
    "# Filter for just reversals transaction types\n",
    "reversals = data[data['transactionType'] == 'REVERSAL']\n",
    "\n",
    "# Summarize reversals and their prevelance in the larger data set\n",
    "pd.DataFrame({'reversal_count': [len(reversals)],\n",
    "              'pct_of_total': [round(len(reversals) / len(data), 3)],\n",
    "              'reversal_dollars': [round(sum(reversals['transactionAmount']), 2)],\n",
    "              'pct_of_total_dollars': [round(sum(reversals['transactionAmount']) / \n",
    "                                      sum(data['transactionAmount']), 3)]},\n",
    "             columns = ['reversal_count', 'pct_of_total', 'reversal_dollars', 'pct_of_total_dollars'])\n",
    "\n",
    "# Create a way to identify both reversals and the transaction it was associated with.\n",
    "data['transactionKey'] = (data['accountNumber'].map(str) + '_' +\n",
    "                          data['merchantName'].map(str) + '_' +\n",
    "                          data['transactionDateTime'].str.slice(0, 10).map(str) + '_' +\n",
    "                          data['transactionAmount'].map(str))\n",
    "\n",
    "data['datelessTransactionKey'] = (data['accountNumber'].map(str) + '_' +\n",
    "                                  data['merchantName'].map(str) + '_' +\n",
    "                                  data['transactionAmount'].map(str))\n",
    "\n",
    "data = data.sort_values(['datelessTransactionKey', 'merchantName', 'transactionDateTime'])\n",
    "\n",
    "# Identify a record as a reversal associated record when a `transactionType == 'REVERSAL'`` or\n",
    "# the next transaction by a `customerId` with a specific `merchantName` for the same amount is a reversal.\n",
    "data['rev_association'] = np.where((((data['datelessTransactionKey'].shift(-1) == data['datelessTransactionKey']) &\n",
    "                                     (data['transactionType'].shift(-1) == \"REVERSAL\")) |\n",
    "                                    (data['transactionType'] == 'REVERSAL')),\n",
    "                                   '1',\n",
    "                                   '0')\n",
    "\n",
    "# Print an example of several reveral assocations\n",
    "data[data['rev_association'] == '1'][['accountNumber',\n",
    "                                      'transactionDateTime',\n",
    "                                      'merchantName',\n",
    "                                      'transactionAmount',\n",
    "                                      'transactionType',\n",
    "                                      'rev_association']].head(8)"
   ]
  },
  {
   "cell_type": "code",
   "execution_count": 9,
   "metadata": {},
   "outputs": [
    {
     "data": {
      "text/html": [
       "<div>\n",
       "<style scoped>\n",
       "    .dataframe tbody tr th:only-of-type {\n",
       "        vertical-align: middle;\n",
       "    }\n",
       "\n",
       "    .dataframe tbody tr th {\n",
       "        vertical-align: top;\n",
       "    }\n",
       "\n",
       "    .dataframe thead th {\n",
       "        text-align: right;\n",
       "    }\n",
       "</style>\n",
       "<table border=\"1\" class=\"dataframe\">\n",
       "  <thead>\n",
       "    <tr style=\"text-align: right;\">\n",
       "      <th></th>\n",
       "      <th>reversal_assc_count</th>\n",
       "      <th>pct_of_total</th>\n",
       "      <th>reversal_assc_dollars</th>\n",
       "      <th>pct_of_total_dollars</th>\n",
       "    </tr>\n",
       "  </thead>\n",
       "  <tbody>\n",
       "    <tr>\n",
       "      <th>0</th>\n",
       "      <td>30767</td>\n",
       "      <td>0.048</td>\n",
       "      <td>4364399.3</td>\n",
       "      <td>0.05</td>\n",
       "    </tr>\n",
       "  </tbody>\n",
       "</table>\n",
       "</div>"
      ],
      "text/plain": [
       "   reversal_assc_count  pct_of_total  reversal_assc_dollars  \\\n",
       "0                30767         0.048              4364399.3   \n",
       "\n",
       "   pct_of_total_dollars  \n",
       "0                  0.05  "
      ]
     },
     "execution_count": 9,
     "metadata": {},
     "output_type": "execute_result"
    }
   ],
   "source": [
    "# Summarize reversal-associated transactions and their prevelance in the larger data set\n",
    "reversal_assc = data[data['rev_association'] == '1']\n",
    "\n",
    "pd.DataFrame({'reversal_assc_count': [len(reversal_assc)],\n",
    "              'pct_of_total': [round(len(reversal_assc) / len(data), 3)],\n",
    "              'reversal_assc_dollars': [round(sum(reversal_assc['transactionAmount']), 2)],\n",
    "              'pct_of_total_dollars': [round(sum(reversal_assc['transactionAmount']) / \n",
    "                                      sum(data['transactionAmount']), 3)]},\n",
    "             columns = ['reversal_assc_count', 'pct_of_total', 'reversal_assc_dollars', 'pct_of_total_dollars'])"
   ]
  },
  {
   "cell_type": "markdown",
   "metadata": {},
   "source": [
    "### Programmatically Identifying Multi-Swipe Transactions\n",
    "\n",
    "The second of the two phenomenons that we need to address is the presence of transaction “multi-swipes” in the data. i.e., a transaction that is a duplicate charge of a customer’s card by the same merchant for the same amount in a short timespan. Below is the programmatic approach to counting the number of records and associated dollars with mult-swipes, ensuring that the original swipe associated with the multi-swipe is not included."
   ]
  },
  {
   "cell_type": "code",
   "execution_count": 10,
   "metadata": {},
   "outputs": [
    {
     "data": {
      "text/html": [
       "<div>\n",
       "<style scoped>\n",
       "    .dataframe tbody tr th:only-of-type {\n",
       "        vertical-align: middle;\n",
       "    }\n",
       "\n",
       "    .dataframe tbody tr th {\n",
       "        vertical-align: top;\n",
       "    }\n",
       "\n",
       "    .dataframe thead th {\n",
       "        text-align: right;\n",
       "    }\n",
       "</style>\n",
       "<table border=\"1\" class=\"dataframe\">\n",
       "  <thead>\n",
       "    <tr style=\"text-align: right;\">\n",
       "      <th></th>\n",
       "      <th>customerId</th>\n",
       "      <th>transactionDateTime</th>\n",
       "      <th>merchantName</th>\n",
       "      <th>transactionAmount</th>\n",
       "      <th>transactionType</th>\n",
       "      <th>multi_swipe</th>\n",
       "    </tr>\n",
       "  </thead>\n",
       "  <tbody>\n",
       "    <tr>\n",
       "      <th>122015</th>\n",
       "      <td>100973869</td>\n",
       "      <td>2016-08-18 19:46:54</td>\n",
       "      <td>Lyft</td>\n",
       "      <td>0.00</td>\n",
       "      <td>ADDRESS_VERIFICATION</td>\n",
       "      <td>0</td>\n",
       "    </tr>\n",
       "    <tr>\n",
       "      <th>122016</th>\n",
       "      <td>100973869</td>\n",
       "      <td>2016-08-18 19:48:23</td>\n",
       "      <td>Lyft</td>\n",
       "      <td>0.00</td>\n",
       "      <td>ADDRESS_VERIFICATION</td>\n",
       "      <td>1</td>\n",
       "    </tr>\n",
       "    <tr>\n",
       "      <th>21091</th>\n",
       "      <td>102307135</td>\n",
       "      <td>2016-05-24 22:52:55</td>\n",
       "      <td>Universe Massage #777394</td>\n",
       "      <td>255.05</td>\n",
       "      <td>PURCHASE</td>\n",
       "      <td>0</td>\n",
       "    </tr>\n",
       "    <tr>\n",
       "      <th>21092</th>\n",
       "      <td>102307135</td>\n",
       "      <td>2016-05-24 22:54:22</td>\n",
       "      <td>Universe Massage #777394</td>\n",
       "      <td>255.05</td>\n",
       "      <td>PURCHASE</td>\n",
       "      <td>1</td>\n",
       "    </tr>\n",
       "    <tr>\n",
       "      <th>478650</th>\n",
       "      <td>104678966</td>\n",
       "      <td>2016-12-26 21:37:31</td>\n",
       "      <td>AMC #128743</td>\n",
       "      <td>635.18</td>\n",
       "      <td>PURCHASE</td>\n",
       "      <td>0</td>\n",
       "    </tr>\n",
       "    <tr>\n",
       "      <th>478651</th>\n",
       "      <td>104678966</td>\n",
       "      <td>2016-12-26 21:38:14</td>\n",
       "      <td>AMC #128743</td>\n",
       "      <td>635.18</td>\n",
       "      <td>PURCHASE</td>\n",
       "      <td>1</td>\n",
       "    </tr>\n",
       "    <tr>\n",
       "      <th>81297</th>\n",
       "      <td>104679201</td>\n",
       "      <td>2016-08-17 12:07:06</td>\n",
       "      <td>1st Sandwitch Bar #801388</td>\n",
       "      <td>8.24</td>\n",
       "      <td>PURCHASE</td>\n",
       "      <td>0</td>\n",
       "    </tr>\n",
       "    <tr>\n",
       "      <th>81298</th>\n",
       "      <td>104679201</td>\n",
       "      <td>2016-08-17 12:09:11</td>\n",
       "      <td>1st Sandwitch Bar #801388</td>\n",
       "      <td>8.24</td>\n",
       "      <td>PURCHASE</td>\n",
       "      <td>1</td>\n",
       "    </tr>\n",
       "  </tbody>\n",
       "</table>\n",
       "</div>"
      ],
      "text/plain": [
       "        customerId transactionDateTime               merchantName  \\\n",
       "122015   100973869 2016-08-18 19:46:54                       Lyft   \n",
       "122016   100973869 2016-08-18 19:48:23                       Lyft   \n",
       "21091    102307135 2016-05-24 22:52:55   Universe Massage #777394   \n",
       "21092    102307135 2016-05-24 22:54:22   Universe Massage #777394   \n",
       "478650   104678966 2016-12-26 21:37:31                AMC #128743   \n",
       "478651   104678966 2016-12-26 21:38:14                AMC #128743   \n",
       "81297    104679201 2016-08-17 12:07:06  1st Sandwitch Bar #801388   \n",
       "81298    104679201 2016-08-17 12:09:11  1st Sandwitch Bar #801388   \n",
       "\n",
       "        transactionAmount       transactionType multi_swipe  \n",
       "122015               0.00  ADDRESS_VERIFICATION           0  \n",
       "122016               0.00  ADDRESS_VERIFICATION           1  \n",
       "21091              255.05              PURCHASE           0  \n",
       "21092              255.05              PURCHASE           1  \n",
       "478650             635.18              PURCHASE           0  \n",
       "478651             635.18              PURCHASE           1  \n",
       "81297                8.24              PURCHASE           0  \n",
       "81298                8.24              PURCHASE           1  "
      ]
     },
     "execution_count": 10,
     "metadata": {},
     "output_type": "execute_result"
    }
   ],
   "source": [
    "# For this exercise, we will consider a multi-swipe to be a duplicate charge of a customer's card by:\n",
    "# the same merchant, for the same transactionAmount, within a five minute window.\n",
    "\n",
    "# Format the transactionDateTime field to dtype datetime64.\n",
    "data['transactionDateTime'] = pd.to_datetime(data['transactionDateTime'])\n",
    "\n",
    "# Calculate the number of minutes betwen swipes for the same transactionKey.\n",
    "data['time_from_dupe'] = np.where((data['transactionKey'].shift(1) == data['transactionKey']),\n",
    "                                  (data['transactionDateTime']-(data['transactionDateTime'].shift(1)))\\\n",
    "                                     .astype('timedelta64[m]'),\n",
    "                                   np.nan)\n",
    "\n",
    "# Identify all records where the time of the duplpicate transaction was within 5 min. of\n",
    "# the same account, merchant, and amount, AND is not a 'REVERSAL'.\n",
    "data['multi_swipe'] = np.where((data['time_from_dupe'] >= 5) | (pd.isnull(data['time_from_dupe'])) | \n",
    "                               (data['transactionType'] == 'REVERSAL'),\n",
    "                                   '0',\n",
    "                                   '1')\n",
    "\n",
    "# Identify unique transactionKey values associated with multi-swipes.\n",
    "multi_swipe_keys = data[data['multi_swipe'] == '1']['transactionKey'].drop_duplicates()\n",
    "\n",
    "# View transactions that have the same transactionKey as a multi-swipe key.\n",
    "data[data['transactionKey'].isin(multi_swipe_keys)][['customerId',\n",
    "                                                    'transactionDateTime',\n",
    "                                                    'merchantName',\n",
    "                                                    'transactionAmount',\n",
    "                                                    'transactionType',\n",
    "                                                    'multi_swipe']].head(8)"
   ]
  },
  {
   "cell_type": "code",
   "execution_count": 11,
   "metadata": {},
   "outputs": [
    {
     "data": {
      "text/html": [
       "<div>\n",
       "<style scoped>\n",
       "    .dataframe tbody tr th:only-of-type {\n",
       "        vertical-align: middle;\n",
       "    }\n",
       "\n",
       "    .dataframe tbody tr th {\n",
       "        vertical-align: top;\n",
       "    }\n",
       "\n",
       "    .dataframe thead th {\n",
       "        text-align: right;\n",
       "    }\n",
       "</style>\n",
       "<table border=\"1\" class=\"dataframe\">\n",
       "  <thead>\n",
       "    <tr style=\"text-align: right;\">\n",
       "      <th></th>\n",
       "      <th>multi_swipe_count</th>\n",
       "      <th>pct_of_total</th>\n",
       "      <th>multi_swipe_dollars</th>\n",
       "      <th>pct_of_total_dollars</th>\n",
       "    </tr>\n",
       "  </thead>\n",
       "  <tbody>\n",
       "    <tr>\n",
       "      <th>0</th>\n",
       "      <td>6174</td>\n",
       "      <td>0.01</td>\n",
       "      <td>887108.23</td>\n",
       "      <td>0.01</td>\n",
       "    </tr>\n",
       "  </tbody>\n",
       "</table>\n",
       "</div>"
      ],
      "text/plain": [
       "   multi_swipe_count  pct_of_total  multi_swipe_dollars  pct_of_total_dollars\n",
       "0               6174          0.01            887108.23                  0.01"
      ]
     },
     "execution_count": 11,
     "metadata": {},
     "output_type": "execute_result"
    }
   ],
   "source": [
    "# Summarize multi-swipe transactions and their prevelance in the larger data set\n",
    "multi_swipe = data[data['multi_swipe'] == '1']\n",
    "\n",
    "pd.DataFrame({'multi_swipe_count': [len(multi_swipe)],\n",
    "              'pct_of_total': [round(len(multi_swipe) / len(data), 3)],\n",
    "              'multi_swipe_dollars': [round(sum(multi_swipe['transactionAmount']), 2)],\n",
    "              'pct_of_total_dollars': [round(sum(multi_swipe['transactionAmount']) / \n",
    "                                      sum(data['transactionAmount']), 3)]},\n",
    "             columns = ['multi_swipe_count', 'pct_of_total', 'multi_swipe_dollars', 'pct_of_total_dollars'])"
   ]
  },
  {
   "cell_type": "markdown",
   "metadata": {},
   "source": [
    "# 4. Machine Learning"
   ]
  },
  {
   "cell_type": "code",
   "execution_count": 12,
   "metadata": {},
   "outputs": [
    {
     "data": {
      "text/plain": [
       "False    630612\n",
       "True      11302\n",
       "Name: isFraud, dtype: int64"
      ]
     },
     "execution_count": 12,
     "metadata": {},
     "output_type": "execute_result"
    }
   ],
   "source": [
    "# View the balance (or imblance) of the 'isFraud' field\n",
    "data['isFraud'].value_counts()"
   ]
  },
  {
   "cell_type": "code",
   "execution_count": 13,
   "metadata": {},
   "outputs": [
    {
     "data": {
      "text/plain": [
       "0.0176"
      ]
     },
     "execution_count": 13,
     "metadata": {},
     "output_type": "execute_result"
    }
   ],
   "source": [
    "# View the percent of records that where `'isFraud' == True`\n",
    "round(len(data[data['isFraud'] == True]) / len(data), 4)"
   ]
  },
  {
   "cell_type": "markdown",
   "metadata": {},
   "source": [
    "The dataset is considered extremely imbalanced."
   ]
  },
  {
   "cell_type": "markdown",
   "metadata": {},
   "source": [
    "### Feature Engineering\n",
    "\n",
    "The section below extracts the month, day of week, and hour of each record's `transactionDateTime`."
   ]
  },
  {
   "cell_type": "code",
   "execution_count": 14,
   "metadata": {},
   "outputs": [],
   "source": [
    "# Add fields to indicate the month, dayofweek, and hour of each transaction\n",
    "data['transactionMonth'] = data['transactionDateTime'].dt.month\n",
    "data['transactionDayofWeek'] = data['transactionDateTime'].dt.dayofweek\n",
    "data['transactionHour'] = data['transactionDateTime'].dt.hour"
   ]
  },
  {
   "cell_type": "markdown",
   "metadata": {},
   "source": [
    "The following section calculates the z-scores of the time from the previous purchase and the `transactionAmount`, at the `customerId` level and the combination of `customerId` and `merchantCategoryCode`. It also calculates the  and `transactionAmount` z-scores at the `merchantCategoryCode` level. \n",
    "\n",
    "The mean and standard deviations are captured for each of the above-mentioned combinations so that the z-scores of any future records could be easily calculated if the pipeline was operationalized. "
   ]
  },
  {
   "cell_type": "code",
   "execution_count": 15,
   "metadata": {},
   "outputs": [],
   "source": [
    "# Create a variable to measure standardized distinace from 0 in both the time between\n",
    "# the current transaction and the last transaction of the same merchant type for each customer,\n",
    "# as well as the dollar amount.\n",
    "data = data.sort_values(['customerId', 'transactionDateTime'])\n",
    "data['time_prev'] = np.where((data['customerId'].shift(1) == data['customerId']),\n",
    "                             (data['transactionDateTime']-(data['transactionDateTime'].shift(1)))\\\n",
    "                                .astype('timedelta64[m]'),\n",
    "                              np.nan)\n",
    "\n",
    "# Function for getting standard deviation and mean when grouping by one field\n",
    "def standardized_pieces(groupby_column_name, column_name):\n",
    "    return data\\\n",
    "      .groupby([groupby_column_name], as_index = False)[column_name]\\\n",
    "      .aggregate({('std_' + groupby_column_name + column_name): np.std, \n",
    "                  ('avg_' + groupby_column_name + column_name): np.mean})\n",
    "\n",
    "c_time = standardized_pieces('customerId', 'time_prev')\n",
    "c_amount = standardized_pieces('customerId', 'transactionAmount')\n",
    "m_amount = standardized_pieces('merchantCategoryCode', 'transactionAmount')\n",
    "\n",
    "data2 = pd.merge(data, c_time, on = ['customerId'])\n",
    "data2 = pd.merge(data2, c_amount, on = ['customerId'])\n",
    "data2 = pd.merge(data2, m_amount, on = ['merchantCategoryCode'])\n",
    "\n",
    "# Function for calculating z-scores\n",
    "def single_group_zscores(groupby_column_name, column_name):\n",
    "    return np.where(((data2[('std_' + groupby_column_name + column_name)].isnull()) |\\\n",
    "                     (data2[column_name].isnull()) |\\\n",
    "                     (data2[('std_' + groupby_column_name + column_name)] == 0)),\n",
    "                    0,\n",
    "                    ((data2[column_name] - data2[('avg_' + groupby_column_name + column_name)]) /\\\n",
    "                     data2[('std_' + groupby_column_name + column_name)]))\n",
    "\n",
    "data2['z_c_tfp'] = single_group_zscores('customerId', 'time_prev')\n",
    "data2['z_c_ta'] = single_group_zscores('customerId', 'transactionAmount')\n",
    "data2['z_m_ta'] = single_group_zscores('merchantCategoryCode', 'transactionAmount')\n",
    "\n",
    "\n",
    "# Get for customerId and merchantCategoryCode\n",
    "data2 = data2.sort_values(['customerId', 'merchantCategoryCode', 'transactionDateTime'])\n",
    "data2['time_prev_sim_merch'] = np.where(((data2['customerId'].shift(1) == data2['customerId']) &\\\n",
    "                                         (data2['merchantCategoryCode'].shift(1) == data2['merchantCategoryCode'])),\n",
    "                                  (data2['transactionDateTime']-(data2['transactionDateTime'].shift(1)))\\\n",
    "                                     .astype('timedelta64[m]'),\n",
    "                                   np.nan)\n",
    "\n",
    "# Function for getting standard deviation and mean when grouping by customerId and merchantCategoryCode\n",
    "def standardized_pieces_multi(column_name):\n",
    "    return data2\\\n",
    "      .groupby(['customerId', 'merchantCategoryCode'], as_index = False)[column_name]\\\n",
    "      .aggregate({('std_cm' + column_name): np.std, ('avg_cm' + column_name): np.mean})\n",
    "\n",
    "cm_time = standardized_pieces_multi('time_prev_sim_merch')\n",
    "cm_amount = standardized_pieces_multi('transactionAmount')\n",
    "\n",
    "data2 = pd.merge(data2, cm_time, on = ['customerId', 'merchantCategoryCode'])\n",
    "data2 = pd.merge(data2, cm_amount, on = ['customerId', 'merchantCategoryCode'])\n",
    "\n",
    "def multi_group_zscores(column_name):\n",
    "    return np.where(((data2[('std_cm' + column_name)].isnull()) |\\\n",
    "                     (data2[column_name].isnull()) |\\\n",
    "                     (data2[('std_cm' + column_name)] == 0)),\n",
    "                    0,\n",
    "                    ((data2[column_name] - data2[('avg_cm' + column_name)]) /\\\n",
    "                     data2[('std_cm' + column_name)]))\n",
    "\n",
    "data2['z_cm_tfp'] = multi_group_zscores('time_prev_sim_merch')\n",
    "data2['z_cm_ta'] = multi_group_zscores('transactionAmount')"
   ]
  },
  {
   "cell_type": "markdown",
   "metadata": {},
   "source": [
    " The percent of each member's total transactions and total `transactionAmount` spent by the record's specific `merchantCategoryCode` are captured as new features."
   ]
  },
  {
   "cell_type": "code",
   "execution_count": 16,
   "metadata": {},
   "outputs": [
    {
     "data": {
      "text/html": [
       "<div>\n",
       "<style scoped>\n",
       "    .dataframe tbody tr th:only-of-type {\n",
       "        vertical-align: middle;\n",
       "    }\n",
       "\n",
       "    .dataframe tbody tr th {\n",
       "        vertical-align: top;\n",
       "    }\n",
       "\n",
       "    .dataframe thead th {\n",
       "        text-align: right;\n",
       "    }\n",
       "</style>\n",
       "<table border=\"1\" class=\"dataframe\">\n",
       "  <thead>\n",
       "    <tr style=\"text-align: right;\">\n",
       "      <th></th>\n",
       "      <th>customerId</th>\n",
       "      <th>merchantCategoryCode</th>\n",
       "      <th>cat_trans</th>\n",
       "      <th>cat_dollars</th>\n",
       "      <th>perc_cat_trans</th>\n",
       "      <th>perc_cat_dollars</th>\n",
       "    </tr>\n",
       "  </thead>\n",
       "  <tbody>\n",
       "    <tr>\n",
       "      <th>0</th>\n",
       "      <td>100547107</td>\n",
       "      <td>fastfood</td>\n",
       "      <td>77</td>\n",
       "      <td>11024.45</td>\n",
       "      <td>0.905882</td>\n",
       "      <td>0.998325</td>\n",
       "    </tr>\n",
       "    <tr>\n",
       "      <th>1</th>\n",
       "      <td>100547107</td>\n",
       "      <td>food</td>\n",
       "      <td>1</td>\n",
       "      <td>18.50</td>\n",
       "      <td>0.011765</td>\n",
       "      <td>0.001675</td>\n",
       "    </tr>\n",
       "    <tr>\n",
       "      <th>2</th>\n",
       "      <td>100547107</td>\n",
       "      <td>mobileapps</td>\n",
       "      <td>7</td>\n",
       "      <td>0.00</td>\n",
       "      <td>0.082353</td>\n",
       "      <td>0.000000</td>\n",
       "    </tr>\n",
       "    <tr>\n",
       "      <th>3</th>\n",
       "      <td>100634414</td>\n",
       "      <td>entertainment</td>\n",
       "      <td>1</td>\n",
       "      <td>0.00</td>\n",
       "      <td>0.041667</td>\n",
       "      <td>0.000000</td>\n",
       "    </tr>\n",
       "    <tr>\n",
       "      <th>4</th>\n",
       "      <td>100634414</td>\n",
       "      <td>fastfood</td>\n",
       "      <td>2</td>\n",
       "      <td>171.02</td>\n",
       "      <td>0.083333</td>\n",
       "      <td>0.102292</td>\n",
       "    </tr>\n",
       "  </tbody>\n",
       "</table>\n",
       "</div>"
      ],
      "text/plain": [
       "   customerId merchantCategoryCode  cat_trans  cat_dollars  perc_cat_trans  \\\n",
       "0   100547107             fastfood         77     11024.45        0.905882   \n",
       "1   100547107                 food          1        18.50        0.011765   \n",
       "2   100547107           mobileapps          7         0.00        0.082353   \n",
       "3   100634414        entertainment          1         0.00        0.041667   \n",
       "4   100634414             fastfood          2       171.02        0.083333   \n",
       "\n",
       "   perc_cat_dollars  \n",
       "0          0.998325  \n",
       "1          0.001675  \n",
       "2          0.000000  \n",
       "3          0.000000  \n",
       "4          0.102292  "
      ]
     },
     "execution_count": 16,
     "metadata": {},
     "output_type": "execute_result"
    }
   ],
   "source": [
    "cust_merch_agg = data2.groupby(['customerId', 'merchantCategoryCode'], as_index = False)\\\n",
    "  .agg({'transactionAmount': ['count', 'sum']})\n",
    "cust_merch_agg.columns = ['customerId', 'merchantCategoryCode', 'cat_trans', 'cat_dollars']\n",
    "\n",
    "cust_agg = data2.groupby(['customerId'], as_index = False)\\\n",
    "  .agg({'transactionAmount': ['count', 'sum']})\n",
    "cust_agg.columns = ['customerId', 'cust_trans', 'cust_dollars']\n",
    "\n",
    "cust_perc = pd.merge(cust_merch_agg, cust_agg, on = 'customerId')\n",
    "cust_perc['perc_cat_trans'] = cust_perc['cat_trans'] / cust_perc['cust_trans']\n",
    "cust_perc['perc_cat_dollars'] = cust_perc['cat_dollars'] / cust_perc['cust_dollars']\n",
    "cust_perc = cust_perc.drop(columns = ['cust_trans',\n",
    "                                      'cust_dollars'], axis = 1)\n",
    "\n",
    "data2 = pd.merge(data2, cust_perc, on = ['customerId', 'merchantCategoryCode'])\n",
    "cust_perc.head()"
   ]
  },
  {
   "cell_type": "markdown",
   "metadata": {},
   "source": [
    "### Exploratory Data Analysis"
   ]
  },
  {
   "cell_type": "code",
   "execution_count": 17,
   "metadata": {},
   "outputs": [
    {
     "data": {
      "image/png": "[encoded data removed]",
      "text/plain": [
       "<Figure size 432x216 with 2 Axes>"
      ]
     },
     "metadata": {
      "needs_background": "light"
     },
     "output_type": "display_data"
    },
    {
     "data": {
      "image/png": "[encoded data removed]",
      "text/plain": [
       "<Figure size 432x216 with 2 Axes>"
      ]
     },
     "metadata": {
      "needs_background": "light"
     },
     "output_type": "display_data"
    },
    {
     "data": {
      "image/png": "[encoded data removed]",
      "text/plain": [
       "<Figure size 432x216 with 2 Axes>"
      ]
     },
     "metadata": {
      "needs_background": "light"
     },
     "output_type": "display_data"
    },
    {
     "data": {
      "image/png": "[encoded data removed]",
      "text/plain": [
       "<Figure size 432x216 with 2 Axes>"
      ]
     },
     "metadata": {
      "needs_background": "light"
     },
     "output_type": "display_data"
    }
   ],
   "source": [
    "# Display non-Fraud and Fraud transaction volumes over time\n",
    "import seaborn as sns\n",
    "\n",
    "def volume_over_time(timepart):\n",
    "    overtime = data.groupby([getattr(data['transactionDateTime'].dt, timepart), 'isFraud']).size().reset_index()\n",
    "    overtime.columns = [('transaction_'+ timepart), 'isFraud', 'transactionCount']\n",
    "    \n",
    "    plt.rcParams['figure.figsize'] = (12,8)\n",
    "    plt.rcParams[\"font.size\"] = 12\n",
    "    \n",
    "    g = sns.FacetGrid(overtime, col = 'isFraud', col_wrap = 2, sharey = False)\n",
    "    g.map(plt.plot, ('transaction_'+ timepart), 'transactionCount')\n",
    "    g.axes[0].set_ylim(0)\n",
    "    g.axes[1].set_ylim(0)\n",
    "    g.set_xticklabels(rotation = 45)\n",
    "\n",
    "for i in ['month', 'dayofweek', 'day', 'hour']:\n",
    "    volume_over_time(i)"
   ]
  },
  {
   "cell_type": "markdown",
   "metadata": {},
   "source": [
    "The charts above display the trends of non-fraudulent and fraudulent transactions over different time intervals. The only noticeable pattern is that the non-fraudulent transactions have continued to increase throughout 2016 while fraud transactions have slightly declined.\n",
    "\n",
    "The chart below displays the percent of transactions that are fraud, and further indicates that the percentage of fraud transactions has slightly decreased throughout 2016."
   ]
  },
  {
   "cell_type": "code",
   "execution_count": 18,
   "metadata": {},
   "outputs": [
    {
     "data": {
      "image/png": "[encoded data removed]",
      "text/plain": [
       "<Figure size 864x576 with 1 Axes>"
      ]
     },
     "metadata": {
      "needs_background": "light"
     },
     "output_type": "display_data"
    }
   ],
   "source": [
    "# Display the percentage of fraud transactions over time\n",
    "def percent_fraud_time(timepart):\n",
    "    perc_overtime1 = data.groupby([getattr(data['transactionDateTime'].dt, timepart), 'isFraud'])\\\n",
    "      .agg({'transactionAmount': 'count'})\n",
    "    perc_overtime2 = data.groupby(getattr(data['transactionDateTime'].dt, timepart))\\\n",
    "      .agg({'transactionAmount': 'count'})\n",
    "    perc_overtime = perc_overtime1.div(perc_overtime2, level = 'transactionDateTime').reset_index()\n",
    "    perc_overtime.columns = [('transaction_' + timepart), 'isFraud', 'fraud_percentage']\n",
    "    perc_overtime = perc_overtime[perc_overtime['isFraud'] == 1]\n",
    "\n",
    "    plt.rcParams['figure.figsize'] = (12,8)\n",
    "    plt.rcParams[\"font.size\"] = 18\n",
    "    \n",
    "    plt.plot(perc_overtime[('transaction_' + timepart)], perc_overtime['fraud_percentage'], color='b')\n",
    "    plt.title('Percentage of Fraudulent Transactions over Time', color = 'k')\n",
    "    plt.xlabel((timepart + ' of 2016'), color = 'k')\n",
    "    plt.ylabel('Fraud % of Transactions', color = 'k')\n",
    "\n",
    "percent_fraud_time('month')"
   ]
  },
  {
   "cell_type": "markdown",
   "metadata": {},
   "source": [
    "Per the pareto chart below, the combination of online_retail and fastfood make up almost 50% of all fraudulent transactions."
   ]
  },
  {
   "cell_type": "code",
   "execution_count": 19,
   "metadata": {},
   "outputs": [
    {
     "data": {
      "image/png": "[encoded data removed]",
      "text/plain": [
       "<Figure size 1296x576 with 2 Axes>"
      ]
     },
     "metadata": {
      "needs_background": "light"
     },
     "output_type": "display_data"
    }
   ],
   "source": [
    "def category_counts():\n",
    "    byMC = data2[data2['isFraud'] == True].groupby('merchantCategoryCode')\\\n",
    "      .agg({'transactionAmount': 'count'})\n",
    "    byMC.columns = ['transactionCount']\n",
    "    byMC = byMC.sort_values('transactionCount', ascending = False)\n",
    "    byMC['cumpercentage'] = byMC['transactionCount'].cumsum() / byMC['transactionCount'].sum()\n",
    "    x_pos = np.arange(len(byMC.index))\n",
    "\n",
    "    plt.rcParams['figure.figsize'] = (18,8)\n",
    "    plt.rcParams[\"font.size\"] = 12\n",
    "    \n",
    "    fig, ax = plt.subplots()\n",
    "    ax.bar(x_pos, byMC['transactionCount'], color = 'C0')\n",
    "    ax2 = ax.twinx()\n",
    "    ax2.plot(x_pos, byMC['cumpercentage'], color = 'C3', marker = 'D', ms = 7)\n",
    "    ax.tick_params(axis = 'y', colors = 'C0')\n",
    "    ax2.tick_params(axis = 'y', colors = 'C3')\n",
    "    ax.grid(False)\n",
    "    ax2.grid(False)\n",
    "    plt.xticks(x_pos, byMC.index, rotation = '90')\n",
    "    plt.title('Fraud Transactions by Merchant Category')\n",
    "    ax.set_xlabel('Merchant Category')\n",
    "    ax.set_ylabel('Fraud Transaction Count')\n",
    "    ax2.set_ylabel('Cummulative % of Fraud Transactions', rotation = 270, labelpad = 15)\n",
    "\n",
    "category_counts()"
   ]
  },
  {
   "cell_type": "markdown",
   "metadata": {},
   "source": [
    "Using the boxplots below, it seems as though there is a difference between fraudulent and non-fraudulent transactions for `transactionAmount` and the z-score `transactionAmount`s at the `customerId` (`z_c_ta`), `merchantCategoryCode` (`z_m_ta`), and combination (`z_cm_ta`) variables. Please note that outliers have been excluded from boxplot visualizations."
   ]
  },
  {
   "cell_type": "code",
   "execution_count": 20,
   "metadata": {},
   "outputs": [
    {
     "data": {
      "image/png": "[encoded data removed]",
      "text/plain": [
       "<Figure size 864x864 with 13 Axes>"
      ]
     },
     "metadata": {
      "needs_background": "light"
     },
     "output_type": "display_data"
    }
   ],
   "source": [
    "def numeric_boxplots():\n",
    "    melted = data2.melt(id_vars = 'isFraud', value_vars = ['currentBalance',\n",
    "                                                           'availableMoney',\n",
    "                                                           'creditLimit',\n",
    "                                                           'transactionAmount',\n",
    "                                                           'z_c_ta',\n",
    "                                                           'z_c_tfp',\n",
    "                                                           'z_m_ta',\n",
    "                                                           'z_cm_ta',\n",
    "                                                           'z_cm_tfp',\n",
    "                                                           'cat_trans',\n",
    "                                                           'cat_dollars',\n",
    "                                                           'perc_cat_trans',\n",
    "                                                           'perc_cat_dollars'])\n",
    "\n",
    "    g = sns.FacetGrid(melted, col = 'variable', col_wrap = 4, sharey = False)\n",
    "    g.map(sns.boxplot, 'isFraud', 'value', showfliers = False, order = [False, True])\n",
    "    g.fig.subplots_adjust(top = 0.9)\n",
    "    g.fig.suptitle('Numeric Variable Box Plots by Fraud ID')\n",
    "\n",
    "numeric_boxplots()"
   ]
  },
  {
   "cell_type": "markdown",
   "metadata": {},
   "source": [
    "Two types of supervised machine learning models have been chosen for training on this data: Random Forest and Gradient Boosting. Both models leverage ensembles of trees to choose the most appropriate combinations of weights, but Random Forest models are decision trees that are independently ran with a bagging (i.e., bootstrap aggregation) sub-sampling method for every tree that also uses a pre-defined number of random predictor variables to test at every split. The ensemble of independent trees help Random Forest from over-fitting its predictions (i.e., reduces variance), which is a problem that a single decision tree can often have.\n",
    "\n",
    "Gradient Boosting primarily differs from Random Forest due to the fact that its trees are built sequentially and each tree focuses on the specific errors of the tree before it to better train “weak learners”. Gradient Boosting’s nature of learning from errors makes it more prone to over-fitting on its training data, so parameters need to be tuned to ensure that a healthy bias-variance tradeoff is found.\n",
    "\n",
    "Both Random Forest and Gradient Boosting are non-parametric machine learning models. They do not assume a Gaussian distribution of the data, nor are they unduly affected by highly-correlated predictor variables. Because of these factors, neither scaling nor feature reduction will be performed in this exercise.\n",
    "\n",
    "Due to the heavily imbalanced Class label, techniques will be applied to balance the training data’s Class labels in order for the model to better recognize the minority class. The test data’s Class prevelance will not be altered.\n",
    "\n",
    "The Area Under the Curve will be used as the measure of performance. The Area Under the Curve measures the trade-off between True Positives (Sensitivity) and False Positives (1 - Specificity). i.e., how good is the model at finding correct fraud transactions while not mis-labeling too many non-fraud transactions as “fraud” in the process? This is balance is important to banks because there is a trade-off for the organization in being able to stop true fraud and causing unnecessary inconveniences to its customers when it intervenes on fraud false positives."
   ]
  },
  {
   "cell_type": "markdown",
   "metadata": {},
   "source": [
    "### Pre-Processing\n",
    "\n",
    "#### Initial Feature Selection"
   ]
  },
  {
   "cell_type": "code",
   "execution_count": 21,
   "metadata": {},
   "outputs": [
    {
     "data": {
      "text/plain": [
       "(641914, 27)"
      ]
     },
     "execution_count": 21,
     "metadata": {},
     "output_type": "execute_result"
    }
   ],
   "source": [
    "initSet = data2[['isFraud',\n",
    "                 'creditLimit',\n",
    "                 'availableMoney',\n",
    "                 'transactionAmount',\n",
    "                 'currentBalance',\n",
    "                 'transactionMonth',\n",
    "                 'transactionDayofWeek',\n",
    "                 'transactionHour',\n",
    "                 'z_c_ta',\n",
    "                 'z_c_tfp',\n",
    "                 'z_m_ta',\n",
    "                 'z_cm_ta',\n",
    "                 'z_cm_tfp',\n",
    "                 'acqCountry',\n",
    "                 'merchantCountryCode',\n",
    "                 'merchantCategoryCode',\n",
    "                 'posEntryMode',\n",
    "                 'posConditionCode',\n",
    "                 'transactionType',\n",
    "                 'cardPresent',\n",
    "                 'expirationDateKeyInMatch',\n",
    "                 'rev_association',\n",
    "                 'multi_swipe',\n",
    "                 'cat_trans',\n",
    "                 'cat_dollars',\n",
    "                 'perc_cat_trans',\n",
    "                 'perc_cat_dollars']]\n",
    "\n",
    "import warnings\n",
    "from pandas.core.common import SettingWithCopyWarning\n",
    "   \n",
    "with warnings.catch_warnings():\n",
    "    warnings.simplefilter(action = \"ignore\", category=SettingWithCopyWarning)\n",
    "    initSet['label'] = np.where(initSet['isFraud'] == True, 1, 0)\n",
    "    \n",
    "initSet = initSet.drop('isFraud', axis = 1)\n",
    "\n",
    "del [data, data2]\n",
    "\n",
    "# Check out the data pulled into initSet.\n",
    "initSet.shape"
   ]
  },
  {
   "cell_type": "code",
   "execution_count": 22,
   "metadata": {},
   "outputs": [
    {
     "data": {
      "text/html": [
       "<div>\n",
       "<style scoped>\n",
       "    .dataframe tbody tr th:only-of-type {\n",
       "        vertical-align: middle;\n",
       "    }\n",
       "\n",
       "    .dataframe tbody tr th {\n",
       "        vertical-align: top;\n",
       "    }\n",
       "\n",
       "    .dataframe thead th {\n",
       "        text-align: right;\n",
       "    }\n",
       "</style>\n",
       "<table border=\"1\" class=\"dataframe\">\n",
       "  <thead>\n",
       "    <tr style=\"text-align: right;\">\n",
       "      <th></th>\n",
       "      <th>index</th>\n",
       "      <th>null_count</th>\n",
       "      <th>empty_string_count</th>\n",
       "      <th>unique_values</th>\n",
       "      <th>freqRatio</th>\n",
       "    </tr>\n",
       "  </thead>\n",
       "  <tbody>\n",
       "    <tr>\n",
       "      <th>18</th>\n",
       "      <td>acqCountry</td>\n",
       "      <td>3913</td>\n",
       "      <td>0</td>\n",
       "      <td>4</td>\n",
       "      <td>240.785605</td>\n",
       "    </tr>\n",
       "    <tr>\n",
       "      <th>17</th>\n",
       "      <td>posEntryMode</td>\n",
       "      <td>3345</td>\n",
       "      <td>0</td>\n",
       "      <td>5</td>\n",
       "      <td>1.323107</td>\n",
       "    </tr>\n",
       "    <tr>\n",
       "      <th>19</th>\n",
       "      <td>merchantCountryCode</td>\n",
       "      <td>624</td>\n",
       "      <td>0</td>\n",
       "      <td>4</td>\n",
       "      <td>241.114188</td>\n",
       "    </tr>\n",
       "    <tr>\n",
       "      <th>21</th>\n",
       "      <td>transactionType</td>\n",
       "      <td>589</td>\n",
       "      <td>0</td>\n",
       "      <td>3</td>\n",
       "      <td>36.939252</td>\n",
       "    </tr>\n",
       "    <tr>\n",
       "      <th>20</th>\n",
       "      <td>posConditionCode</td>\n",
       "      <td>287</td>\n",
       "      <td>0</td>\n",
       "      <td>3</td>\n",
       "      <td>4.231394</td>\n",
       "    </tr>\n",
       "    <tr>\n",
       "      <th>8</th>\n",
       "      <td>perc_cat_dollars</td>\n",
       "      <td>11</td>\n",
       "      <td>0</td>\n",
       "      <td>20447</td>\n",
       "      <td>1.690676</td>\n",
       "    </tr>\n",
       "    <tr>\n",
       "      <th>0</th>\n",
       "      <td>z_c_ta</td>\n",
       "      <td>0</td>\n",
       "      <td>0</td>\n",
       "      <td>558481</td>\n",
       "      <td>1.165441</td>\n",
       "    </tr>\n",
       "    <tr>\n",
       "      <th>1</th>\n",
       "      <td>z_cm_ta</td>\n",
       "      <td>0</td>\n",
       "      <td>0</td>\n",
       "      <td>553730</td>\n",
       "      <td>63.233898</td>\n",
       "    </tr>\n",
       "    <tr>\n",
       "      <th>2</th>\n",
       "      <td>z_cm_tfp</td>\n",
       "      <td>0</td>\n",
       "      <td>0</td>\n",
       "      <td>524091</td>\n",
       "      <td>26.896471</td>\n",
       "    </tr>\n",
       "    <tr>\n",
       "      <th>3</th>\n",
       "      <td>z_c_tfp</td>\n",
       "      <td>0</td>\n",
       "      <td>0</td>\n",
       "      <td>489924</td>\n",
       "      <td>18.629630</td>\n",
       "    </tr>\n",
       "    <tr>\n",
       "      <th>4</th>\n",
       "      <td>availableMoney</td>\n",
       "      <td>0</td>\n",
       "      <td>0</td>\n",
       "      <td>450690</td>\n",
       "      <td>1.022856</td>\n",
       "    </tr>\n",
       "    <tr>\n",
       "      <th>5</th>\n",
       "      <td>currentBalance</td>\n",
       "      <td>0</td>\n",
       "      <td>0</td>\n",
       "      <td>406990</td>\n",
       "      <td>1601.047619</td>\n",
       "    </tr>\n",
       "    <tr>\n",
       "      <th>6</th>\n",
       "      <td>z_m_ta</td>\n",
       "      <td>0</td>\n",
       "      <td>0</td>\n",
       "      <td>269727</td>\n",
       "      <td>1.616495</td>\n",
       "    </tr>\n",
       "    <tr>\n",
       "      <th>7</th>\n",
       "      <td>transactionAmount</td>\n",
       "      <td>0</td>\n",
       "      <td>0</td>\n",
       "      <td>62735</td>\n",
       "      <td>153.991667</td>\n",
       "    </tr>\n",
       "    <tr>\n",
       "      <th>9</th>\n",
       "      <td>cat_dollars</td>\n",
       "      <td>0</td>\n",
       "      <td>0</td>\n",
       "      <td>19346</td>\n",
       "      <td>1.690676</td>\n",
       "    </tr>\n",
       "    <tr>\n",
       "      <th>10</th>\n",
       "      <td>perc_cat_trans</td>\n",
       "      <td>0</td>\n",
       "      <td>0</td>\n",
       "      <td>5996</td>\n",
       "      <td>1.690676</td>\n",
       "    </tr>\n",
       "    <tr>\n",
       "      <th>11</th>\n",
       "      <td>cat_trans</td>\n",
       "      <td>0</td>\n",
       "      <td>0</td>\n",
       "      <td>557</td>\n",
       "      <td>1.195914</td>\n",
       "    </tr>\n",
       "    <tr>\n",
       "      <th>12</th>\n",
       "      <td>transactionHour</td>\n",
       "      <td>0</td>\n",
       "      <td>0</td>\n",
       "      <td>24</td>\n",
       "      <td>1.002112</td>\n",
       "    </tr>\n",
       "    <tr>\n",
       "      <th>13</th>\n",
       "      <td>merchantCategoryCode</td>\n",
       "      <td>0</td>\n",
       "      <td>0</td>\n",
       "      <td>19</td>\n",
       "      <td>1.595607</td>\n",
       "    </tr>\n",
       "    <tr>\n",
       "      <th>14</th>\n",
       "      <td>transactionMonth</td>\n",
       "      <td>0</td>\n",
       "      <td>0</td>\n",
       "      <td>12</td>\n",
       "      <td>1.008441</td>\n",
       "    </tr>\n",
       "    <tr>\n",
       "      <th>15</th>\n",
       "      <td>creditLimit</td>\n",
       "      <td>0</td>\n",
       "      <td>0</td>\n",
       "      <td>10</td>\n",
       "      <td>1.205629</td>\n",
       "    </tr>\n",
       "    <tr>\n",
       "      <th>16</th>\n",
       "      <td>transactionDayofWeek</td>\n",
       "      <td>0</td>\n",
       "      <td>0</td>\n",
       "      <td>7</td>\n",
       "      <td>1.017792</td>\n",
       "    </tr>\n",
       "    <tr>\n",
       "      <th>22</th>\n",
       "      <td>cardPresent</td>\n",
       "      <td>0</td>\n",
       "      <td>0</td>\n",
       "      <td>2</td>\n",
       "      <td>1.129343</td>\n",
       "    </tr>\n",
       "    <tr>\n",
       "      <th>23</th>\n",
       "      <td>expirationDateKeyInMatch</td>\n",
       "      <td>0</td>\n",
       "      <td>0</td>\n",
       "      <td>2</td>\n",
       "      <td>661.449948</td>\n",
       "    </tr>\n",
       "    <tr>\n",
       "      <th>24</th>\n",
       "      <td>rev_association</td>\n",
       "      <td>0</td>\n",
       "      <td>0</td>\n",
       "      <td>2</td>\n",
       "      <td>19.863718</td>\n",
       "    </tr>\n",
       "    <tr>\n",
       "      <th>25</th>\n",
       "      <td>multi_swipe</td>\n",
       "      <td>0</td>\n",
       "      <td>0</td>\n",
       "      <td>2</td>\n",
       "      <td>102.970522</td>\n",
       "    </tr>\n",
       "    <tr>\n",
       "      <th>26</th>\n",
       "      <td>label</td>\n",
       "      <td>0</td>\n",
       "      <td>0</td>\n",
       "      <td>2</td>\n",
       "      <td>55.796496</td>\n",
       "    </tr>\n",
       "  </tbody>\n",
       "</table>\n",
       "</div>"
      ],
      "text/plain": [
       "                       index  null_count  empty_string_count  unique_values  \\\n",
       "18                acqCountry        3913                   0              4   \n",
       "17              posEntryMode        3345                   0              5   \n",
       "19       merchantCountryCode         624                   0              4   \n",
       "21           transactionType         589                   0              3   \n",
       "20          posConditionCode         287                   0              3   \n",
       "8           perc_cat_dollars          11                   0          20447   \n",
       "0                     z_c_ta           0                   0         558481   \n",
       "1                    z_cm_ta           0                   0         553730   \n",
       "2                   z_cm_tfp           0                   0         524091   \n",
       "3                    z_c_tfp           0                   0         489924   \n",
       "4             availableMoney           0                   0         450690   \n",
       "5             currentBalance           0                   0         406990   \n",
       "6                     z_m_ta           0                   0         269727   \n",
       "7          transactionAmount           0                   0          62735   \n",
       "9                cat_dollars           0                   0          19346   \n",
       "10            perc_cat_trans           0                   0           5996   \n",
       "11                 cat_trans           0                   0            557   \n",
       "12           transactionHour           0                   0             24   \n",
       "13      merchantCategoryCode           0                   0             19   \n",
       "14          transactionMonth           0                   0             12   \n",
       "15               creditLimit           0                   0             10   \n",
       "16      transactionDayofWeek           0                   0              7   \n",
       "22               cardPresent           0                   0              2   \n",
       "23  expirationDateKeyInMatch           0                   0              2   \n",
       "24           rev_association           0                   0              2   \n",
       "25               multi_swipe           0                   0              2   \n",
       "26                     label           0                   0              2   \n",
       "\n",
       "      freqRatio  \n",
       "18   240.785605  \n",
       "17     1.323107  \n",
       "19   241.114188  \n",
       "21    36.939252  \n",
       "20     4.231394  \n",
       "8      1.690676  \n",
       "0      1.165441  \n",
       "1     63.233898  \n",
       "2     26.896471  \n",
       "3     18.629630  \n",
       "4      1.022856  \n",
       "5   1601.047619  \n",
       "6      1.616495  \n",
       "7    153.991667  \n",
       "9      1.690676  \n",
       "10     1.690676  \n",
       "11     1.195914  \n",
       "12     1.002112  \n",
       "13     1.595607  \n",
       "14     1.008441  \n",
       "15     1.205629  \n",
       "16     1.017792  \n",
       "22     1.129343  \n",
       "23   661.449948  \n",
       "24    19.863718  \n",
       "25   102.970522  \n",
       "26    55.796496  "
      ]
     },
     "execution_count": 22,
     "metadata": {},
     "output_type": "execute_result"
    }
   ],
   "source": [
    "# Convert all non-float64 dtypes to 'str'.\n",
    "initSet[['transactionMonth',\n",
    "         'transactionDayofWeek',\n",
    "         'transactionHour',\n",
    "         'cardPresent',\n",
    "         'expirationDateKeyInMatch']] = initSet[['transactionMonth',\n",
    "                                                 'transactionDayofWeek',\n",
    "                                                 'transactionHour',\n",
    "                                                 'cardPresent',\n",
    "                                                 'expirationDateKeyInMatch']].astype(str)\n",
    "\n",
    "# Replace all blank strings with np.nan.\n",
    "initSet = initSet.replace(r'^\\s*$', np.nan, regex = True)\n",
    "\n",
    "# Check for null values\n",
    "null_count = initSet.isnull().sum()\n",
    "\n",
    "# Check for empty string values\n",
    "empty_string_count = (initSet.values == '').sum(axis = 0)\n",
    "\n",
    "# Check for med_provname_choice values\n",
    "unique_values = initSet.nunique()\n",
    "\n",
    "# Put the three above items together\n",
    "explore_initSet = pd.DataFrame({'null_count': null_count,\n",
    "                                'empty_string_count': empty_string_count,\n",
    "                                'unique_values': unique_values})\\\n",
    "  .reset_index()\\\n",
    "  .sort_values(by = ['empty_string_count', 'unique_values'], ascending = False)\n",
    "\n",
    "frequency_ratios = pd.DataFrame([])\n",
    "def keep_top2(column_name):\n",
    "    try:\n",
    "        f2 = initSet.groupby(column_name).size().reset_index()\n",
    "        f2.columns = ['value', 'count']\n",
    "        f3 = f2.nlargest(2, 'count')\n",
    "        f4 = pd.DataFrame({'index': [column_name], 'freqRatio': f3['count'].iloc[0]/f3['count'].iloc[1]})\n",
    "        return f4\n",
    "    except:\n",
    "        f4 = pd.DataFrame({'index': [column_name], 'freqRatio': np.nan})\n",
    "        return f4\n",
    "\n",
    "for i in initSet.columns:\n",
    "    f5 = keep_top2(i)\n",
    "    frequency_ratios = frequency_ratios.append(f5)\n",
    "    \n",
    "# Merge the freqRatio with explore_df and print\n",
    "pd.merge(explore_initSet, frequency_ratios, on = 'index')\\\n",
    "  .sort_values(by = ['null_count', 'empty_string_count', 'unique_values'], ascending = False)\n"
   ]
  },
  {
   "cell_type": "markdown",
   "metadata": {},
   "source": [
    "#### Splitting the dataset between train and test sets"
   ]
  },
  {
   "cell_type": "code",
   "execution_count": 23,
   "metadata": {},
   "outputs": [
    {
     "data": {
      "text/plain": [
       "'Training set shape = (449339, 26)'"
      ]
     },
     "metadata": {},
     "output_type": "display_data"
    },
    {
     "data": {
      "text/plain": [
       "'Testing set shape = (192575, 26)'"
      ]
     },
     "metadata": {},
     "output_type": "display_data"
    }
   ],
   "source": [
    "from sklearn.model_selection import train_test_split\n",
    "\n",
    "X_train, X_test, y_train, y_test = train_test_split(initSet.drop('label', axis = 1),\n",
    "                                                    initSet['label'],\n",
    "                                                    test_size = 0.30,\n",
    "                                                    random_state = 42)\n",
    "\n",
    "display('Training set shape = ' + str(X_train.shape))\n",
    "display('Testing set shape = ' + str(X_test.shape))"
   ]
  },
  {
   "cell_type": "markdown",
   "metadata": {},
   "source": [
    "#### Impute missing values in both train and test sets with the mode values from the train set"
   ]
  },
  {
   "cell_type": "code",
   "execution_count": 24,
   "metadata": {},
   "outputs": [
    {
     "data": {
      "text/plain": [
       "'Number of null values in training set = 0'"
      ]
     },
     "metadata": {},
     "output_type": "display_data"
    },
    {
     "data": {
      "text/plain": [
       "'Number of null values in training set = 0'"
      ]
     },
     "metadata": {},
     "output_type": "display_data"
    }
   ],
   "source": [
    "null_count = initSet.isnull().sum()\n",
    "\n",
    "for i in null_count[null_count > 0].index:\n",
    "    X_train[i].fillna(X_train[i].mode()[0], inplace = True)\n",
    "    X_test[i].fillna(X_train[i].mode()[0], inplace = True)\n",
    "\n",
    "# Validate that there are no more nulls\n",
    "display('Number of null values in training set = ' + str(X_train.isnull().sum().sum()))\n",
    "display('Number of null values in training set = ' + str(X_test.isnull().sum().sum()))"
   ]
  },
  {
   "cell_type": "markdown",
   "metadata": {},
   "source": [
    "#### One-hot encode categorical variables (ensuring both the train and test sets only contain the one-hot encoded train fields)"
   ]
  },
  {
   "cell_type": "code",
   "execution_count": 25,
   "metadata": {},
   "outputs": [
    {
     "data": {
      "text/plain": [
       "'Train set does not contain any fields not included in test set.'"
      ]
     },
     "metadata": {},
     "output_type": "display_data"
    },
    {
     "data": {
      "text/plain": [
       "'One-hot encoded train set shape:'"
      ]
     },
     "metadata": {},
     "output_type": "display_data"
    },
    {
     "data": {
      "text/plain": [
       "(449339, 102)"
      ]
     },
     "metadata": {},
     "output_type": "display_data"
    },
    {
     "data": {
      "text/plain": [
       "'One-hot encoded test set shape:'"
      ]
     },
     "metadata": {},
     "output_type": "display_data"
    },
    {
     "data": {
      "text/plain": [
       "(192575, 102)"
      ]
     },
     "metadata": {},
     "output_type": "display_data"
    }
   ],
   "source": [
    "train_X = pd.get_dummies(X_train)\n",
    "test_X = pd.get_dummies(X_test)\n",
    "\n",
    "# Check to see if there are dummy variables in the train set that aren't in the test set,\n",
    "# and synthetically create the variables in the test set.\n",
    "missing_cols = set(train_X.columns) - set(test_X.columns)\n",
    "\n",
    "if len(missing_cols) == 0:\n",
    "    display('Train set does not contain any fields not included in test set.')\n",
    "else:\n",
    "    for i in missing_cols:\n",
    "        test_X[i] = 0\n",
    "        display(test_X[i].name + ' variable synthetically created in test set.')\n",
    "\n",
    "# Ensure that the test set does not have any dummy variables not included in the train set\n",
    "# and that the variables are in the same order.\n",
    "test_X = test_X[train_X.columns]\n",
    "\n",
    "display('One-hot encoded train set shape:')\n",
    "display(train_X.shape)\n",
    "\n",
    "display('One-hot encoded test set shape:')\n",
    "display(test_X.shape)"
   ]
  },
  {
   "cell_type": "markdown",
   "metadata": {},
   "source": [
    "#### Downsampling\n",
    "\n",
    "Due to the labeled outcome's strong imbalance in the dataset, the train set's minority class is downsampled to make the label distribution even between fraud and non-fraud transactions."
   ]
  },
  {
   "cell_type": "code",
   "execution_count": 26,
   "metadata": {},
   "outputs": [
    {
     "data": {
      "text/plain": [
       "'Pre-resampling counts:'"
      ]
     },
     "metadata": {},
     "output_type": "display_data"
    },
    {
     "data": {
      "text/plain": [
       "0    441440\n",
       "1      7899\n",
       "Name: label, dtype: int64"
      ]
     },
     "metadata": {},
     "output_type": "display_data"
    },
    {
     "data": {
      "text/plain": [
       "'Post-resamping counts:'"
      ]
     },
     "metadata": {},
     "output_type": "display_data"
    },
    {
     "data": {
      "text/plain": [
       "1    7899\n",
       "0    7899\n",
       "Name: label, dtype: int64"
      ]
     },
     "metadata": {},
     "output_type": "display_data"
    }
   ],
   "source": [
    "from sklearn.utils import resample\n",
    "\n",
    "train_Xy = pd.concat([train_X, y_train], axis = 1)\n",
    "display('Pre-resampling counts:')\n",
    "display(train_Xy['label'].value_counts())\n",
    "\n",
    "train0 = train_Xy[train_Xy['label'] == 0]\n",
    "train1 = train_Xy[train_Xy['label'] == 1]\n",
    "\n",
    "# Downsample the majority class\n",
    "train0_downsampled = resample(train0,\n",
    "                              replace = False,\n",
    "                              n_samples = len(train1),\n",
    "                              random_state = 123)\n",
    "\n",
    "# Combine minority class with downsampled majority class\n",
    "train = pd.concat([train0_downsampled, train1], axis = 0)\n",
    "\n",
    "# Display new class counts\n",
    "display('Post-resamping counts:')\n",
    "display(train['label'].value_counts())\n",
    "\n",
    "train_X = train.drop('label', axis = 1)\n",
    "train_y = train['label']"
   ]
  },
  {
   "cell_type": "markdown",
   "metadata": {},
   "source": [
    "### Random Forest Development\n",
    "\n",
    "#### Baseline Random Forest build"
   ]
  },
  {
   "cell_type": "code",
   "execution_count": 40,
   "metadata": {},
   "outputs": [],
   "source": [
    "from sklearn.ensemble import RandomForestClassifier\n",
    "\n",
    "with warnings.catch_warnings():\n",
    "    warnings.simplefilter(action = \"ignore\", category = DeprecationWarning)\n",
    "    \n",
    "    base_rf = RandomForestClassifier(n_estimators = 200,\n",
    "                                 bootstrap = True,\n",
    "                                 max_features = 'sqrt')\n",
    "    \n",
    "    base_rf.fit(train_X, train_y)\n",
    "    \n",
    "    # Predict on the test set\n",
    "    rf_base_predictions = base_rf.predict(test_X)\n",
    "\n",
    "    # Probabilities for each class\n",
    "    rf_base_probs = base_rf.predict_proba(test_X)[:, 1]"
   ]
  },
  {
   "cell_type": "markdown",
   "metadata": {},
   "source": [
    "#### Random Forest build with Recursive Feature Elimination (RFE)"
   ]
  },
  {
   "cell_type": "code",
   "execution_count": 41,
   "metadata": {},
   "outputs": [],
   "source": [
    "from sklearn.feature_selection import RFE\n",
    "\n",
    "# Extract the 75 most important features from the base random forest model.\n",
    "rfe_rf = RFE(base_rf, 75)\n",
    "\n",
    "rfe_rf.fit(train_X, train_y)\n",
    "\n",
    "# Predict on the test set\n",
    "rfe_rf_predictions = rfe_rf.predict(test_X)\n",
    "\n",
    "# Probabilities for each class\n",
    "rfe_rf_probs = rfe_rf.predict_proba(test_X)[:, 1]"
   ]
  },
  {
   "cell_type": "markdown",
   "metadata": {},
   "source": [
    "#### Random Forest build with grid search and RFE-selected features"
   ]
  },
  {
   "cell_type": "code",
   "execution_count": 42,
   "metadata": {},
   "outputs": [
    {
     "data": {
      "text/plain": [
       "'RFE-selected training set shape:'"
      ]
     },
     "metadata": {},
     "output_type": "display_data"
    },
    {
     "data": {
      "text/plain": [
       "(15798, 75)"
      ]
     },
     "metadata": {},
     "output_type": "display_data"
    },
    {
     "data": {
      "text/plain": [
       "{'bootstrap': True,\n",
       " 'max_depth': 40,\n",
       " 'max_features': 'sqrt',\n",
       " 'min_samples_leaf': 1,\n",
       " 'min_samples_split': 2,\n",
       " 'n_estimators': 2000}"
      ]
     },
     "metadata": {},
     "output_type": "display_data"
    }
   ],
   "source": [
    "# Limit new train and test sets to only the 75 features retained by the RFE model.\n",
    "rfe_keep = pd.DataFrame({'column_names': train_X.columns,\n",
    "                         'keep_or_not': rfe_rf.ranking_})\n",
    "rfe_keep = rfe_keep[rfe_keep['keep_or_not'] == 1]\n",
    "\n",
    "train_X2 = train_X[rfe_keep.column_names]\n",
    "test_X2 = test_X[rfe_keep.column_names]\n",
    "\n",
    "display('RFE-selected training set shape:')\n",
    "display(train_X2.shape)\n",
    "\n",
    "\n",
    "from sklearn.model_selection import GridSearchCV\n",
    "\n",
    "# Set the hyperparameters on which to grid search\n",
    "n_estimators = [200, 1000, 2000]\n",
    "max_features = ['sqrt']\n",
    "max_depth = [20, 40, 60]\n",
    "min_samples_split = [2, 5, 10]\n",
    "min_samples_leaf = [1, 2, 3]\n",
    "bootstrap = [True]\n",
    "\n",
    "grid_params = {'n_estimators': n_estimators,\n",
    "               'max_features': max_features,\n",
    "               'max_depth': max_depth,\n",
    "               'min_samples_split': min_samples_split,\n",
    "               'min_samples_leaf': min_samples_leaf,\n",
    "               'bootstrap': bootstrap\n",
    "               }\n",
    "\n",
    "grid_search = RandomForestClassifier()\n",
    "rf_grid = GridSearchCV(estimator = grid_search,\n",
    "                       param_grid = grid_params,\n",
    "                       cv = 4,\n",
    "                       scoring = 'roc_auc',\n",
    "                       verbose = 0,\n",
    "                       n_jobs = -1)\n",
    "\n",
    "# Fit grid search model\n",
    "rf_grid.fit(train_X2, train_y)\n",
    "\n",
    "# Predict on the test set\n",
    "rf_grid_predictions = rf_grid.predict(test_X2)\n",
    "\n",
    "# Probabilities for each class\n",
    "rf_grid_probs = rf_grid.predict_proba(test_X2)[:, 1]\n",
    "\n",
    "# View the best fit parameters\n",
    "display(rf_grid.best_params_)"
   ]
  },
  {
   "cell_type": "markdown",
   "metadata": {},
   "source": [
    "### XGBoost Development\n",
    "\n",
    "For the XGBoost model, an upsample of the minority class is used to train instead of the downsample method used in the Random Forest builds."
   ]
  },
  {
   "cell_type": "code",
   "execution_count": 43,
   "metadata": {},
   "outputs": [
    {
     "data": {
      "text/plain": [
       "'Training set shape = (404405, 102)'"
      ]
     },
     "metadata": {},
     "output_type": "display_data"
    },
    {
     "data": {
      "text/plain": [
       "'Watchlist set shape = (44934, 102)'"
      ]
     },
     "metadata": {},
     "output_type": "display_data"
    },
    {
     "data": {
      "text/plain": [
       "'Pre-resampling counts:'"
      ]
     },
     "metadata": {},
     "output_type": "display_data"
    },
    {
     "data": {
      "text/plain": [
       "0    397286\n",
       "1      7119\n",
       "Name: label, dtype: int64"
      ]
     },
     "metadata": {},
     "output_type": "display_data"
    },
    {
     "data": {
      "text/plain": [
       "'Post-resamping counts:'"
      ]
     },
     "metadata": {},
     "output_type": "display_data"
    },
    {
     "data": {
      "text/plain": [
       "1    397286\n",
       "0    397286\n",
       "Name: label, dtype: int64"
      ]
     },
     "metadata": {},
     "output_type": "display_data"
    }
   ],
   "source": [
    "# Further split the train set for an XGBoost watchlist\n",
    "X_train_tr, X_train_watchlist, y_train_tr, y_train_watchlist = train_test_split(train_Xy.drop('label', axis = 1),\n",
    "                                                                                train_Xy['label'],\n",
    "                                                                                test_size = 0.10,\n",
    "                                                                                random_state = 42)\n",
    "\n",
    "\n",
    "\n",
    "display('Training set shape = ' + str(X_train_tr.shape))\n",
    "display('Watchlist set shape = ' + str(X_train_watchlist.shape))\n",
    "\n",
    "\n",
    "Xy_train_tr = pd.concat([X_train_tr, y_train_tr], axis = 1)\n",
    "\n",
    "display('Pre-resampling counts:')\n",
    "display(Xy_train_tr['label'].value_counts())\n",
    "\n",
    "\n",
    "train0 = Xy_train_tr[Xy_train_tr['label'] == 0]\n",
    "train1 = Xy_train_tr[Xy_train_tr['label'] == 1]\n",
    "\n",
    "# Upsample the minority class\n",
    "train1_upsampled = resample(train1,\n",
    "                            replace = True,\n",
    "                            n_samples = len(train0),\n",
    "                            random_state = 123)\n",
    "\n",
    "# Combine minority class with downsampled majority class\n",
    "up_train = pd.concat([train1_upsampled, train0], axis = 0)\n",
    "\n",
    "\n",
    "# Display new class counts\n",
    "display('Post-resamping counts:')\n",
    "display(up_train['label'].value_counts())"
   ]
  },
  {
   "cell_type": "code",
   "execution_count": 44,
   "metadata": {},
   "outputs": [
    {
     "name": "stdout",
     "output_type": "stream",
     "text": [
      "[0]\twatchlist-auc:0.72179\n",
      "Will train until watchlist-auc hasn't improved in 25 rounds.\n",
      "[1]\twatchlist-auc:0.729831\n",
      "[2]\twatchlist-auc:0.731052\n",
      "[3]\twatchlist-auc:0.734655\n",
      "...\n",
      "[189]\twatchlist-auc:0.786623\n",
      "...\n",
      "[212]\twatchlist-auc:0.786322\n",
      "[213]\twatchlist-auc:0.786332\n",
      "[214]\twatchlist-auc:0.786302\n",
      "Stopping. Best iteration:\n",
      "[189]\twatchlist-auc:0.786623\n",
      "\n"
     ]
    }
   ],
   "source": [
    "import xgboost as xgb\n",
    "from scipy.sparse import csr_matrix\n",
    "\n",
    "# Transform datasets into sparse matrices for quicker training\n",
    "sparse_train_X = csr_matrix(up_train.drop('label', axis = 1))\n",
    "sparse_train_watchlist = csr_matrix(X_train_watchlist)\n",
    "sparse_test_X = csr_matrix(test_X)\n",
    "\n",
    "# Set up data to be consumed by the XGBoost model\n",
    "xgb_train = xgb.DMatrix(sparse_train_X, \n",
    "                        label = up_train['label'], \n",
    "                        feature_names = X_train_tr.columns)\n",
    "xgb_watchlist = xgb.DMatrix(sparse_train_watchlist, \n",
    "                            label = y_train_watchlist, \n",
    "                            feature_names = X_train_watchlist.columns)\n",
    "xgb_test = xgb.DMatrix(sparse_test_X, \n",
    "                       label = y_test, \n",
    "                       feature_names = test_X.columns)\n",
    "\n",
    "# Set the gradient boosting parameters\n",
    "params = {'max_depth': 4, \n",
    "          'eta': .1, \n",
    "          'silent': 0, \n",
    "          'objective': 'binary:logistic',\n",
    "          'eval_metric': 'auc'}\n",
    "\n",
    "# Train the model, using a maximum of 500 trees,\n",
    "# but stopping early if no additional AUC increase is observed on the watchlist for 25 rounds.\n",
    "bst = xgb.train(params = params, \n",
    "                dtrain = xgb_train, \n",
    "                num_boost_round = 500,\n",
    "                evals = [(xgb_watchlist, 'watchlist')],\n",
    "                early_stopping_rounds = 25)"
   ]
  },
  {
   "cell_type": "code",
   "execution_count": 45,
   "metadata": {},
   "outputs": [],
   "source": [
    "xgb_probs = bst.predict(xgb_test)\n",
    "xgb_predictions = np.where(xgb_probs >= .5, 1, 0)"
   ]
  },
  {
   "cell_type": "markdown",
   "metadata": {},
   "source": [
    "### Model Evaluations"
   ]
  },
  {
   "cell_type": "code",
   "execution_count": 46,
   "metadata": {},
   "outputs": [
    {
     "data": {
      "image/png": "[encoded data removed]",
      "text/plain": [
       "<Figure size 864x576 with 1 Axes>"
      ]
     },
     "metadata": {
      "needs_background": "light"
     },
     "output_type": "display_data"
    }
   ],
   "source": [
    "# Create ROC Graph\n",
    "from sklearn.metrics import precision_score, recall_score, roc_auc_score, roc_curve\n",
    "\n",
    "default = {}\n",
    "default['recall'] = recall_score(y_test, [1 for _ in range(len(y_test))])\n",
    "default['precision'] = precision_score(y_test, [1 for _ in range(len(y_test))])\n",
    "default['roc'] = 0.5\n",
    "\n",
    "baseline = {}\n",
    "baseline['recall'] = recall_score(y_test, rf_base_predictions)\n",
    "baseline['precision'] = precision_score(y_test, rf_base_predictions)\n",
    "baseline['roc'] = roc_auc_score(y_test, rf_base_probs)\n",
    "\n",
    "rfe = {}\n",
    "rfe['recall'] = recall_score(y_test, rfe_rf_predictions)\n",
    "rfe['precision'] = precision_score(y_test, rfe_rf_predictions)\n",
    "rfe['roc'] = roc_auc_score(y_test, rfe_rf_probs)\n",
    "\n",
    "grid = {}\n",
    "grid['recall'] = recall_score(y_test, rf_grid_predictions)\n",
    "grid['precision'] = precision_score(y_test, rf_grid_predictions)\n",
    "grid['roc'] = roc_auc_score(y_test, rf_grid_probs)\n",
    "\n",
    "boost = {}\n",
    "boost['recall'] = recall_score(y_test, xgb_predictions)\n",
    "boost['precision'] = precision_score(y_test, xgb_predictions)\n",
    "boost['roc'] = roc_auc_score(y_test, xgb_probs)\n",
    "\n",
    "default_fpr, default_tpr, _ = roc_curve(y_test, [1 for _ in range(len(y_test))])\n",
    "base_fpr, base_tpr, _ = roc_curve(y_test, rf_base_probs)\n",
    "rfe_fpr, rfe_tpr, _ = roc_curve(y_test, rfe_rf_probs)\n",
    "grid_fpr, grid_tpr, _ = roc_curve(y_test, rf_grid_probs)\n",
    "boost_fpr, boost_tpr, _ = roc_curve(y_test, xgb_probs)\n",
    "\n",
    "def final_roc_chart():\n",
    "    plt.figure(figsize = (12, 8))\n",
    "    plt.rcParams['font.size'] = 12\n",
    "    plt.plot(default_fpr, default_tpr, color = 'k', linestyle = 'dashed')\n",
    "    plt.plot(base_fpr, base_tpr, color = 'b', label = 'Baseline RF')\n",
    "    plt.plot(rfe_fpr, rfe_tpr, color = 'y', label = 'RFE RF')\n",
    "    plt.plot(grid_fpr, grid_tpr, color = 'm', label = 'Grid Search RF')\n",
    "    plt.plot(boost_fpr, boost_tpr, color = 'g', label = 'XGBoost')\n",
    "    plt.legend(loc = 'lower right')\n",
    "    plt.xlabel('False Positive Rate')\n",
    "    plt.ylabel('True Positive Rate')\n",
    "    plt.title('ROC Curves')\n",
    "\n",
    "final_roc_chart()"
   ]
  },
  {
   "cell_type": "code",
   "execution_count": 47,
   "metadata": {},
   "outputs": [
    {
     "data": {
      "text/plain": [
       "'Baseline Random Forest AUC: 0.7700162464347544'"
      ]
     },
     "metadata": {},
     "output_type": "display_data"
    },
    {
     "data": {
      "text/plain": [
       "'Reduced Feature Random Forest AUC: 0.7708223413987687'"
      ]
     },
     "metadata": {},
     "output_type": "display_data"
    },
    {
     "data": {
      "text/plain": [
       "'Grid Search Random Forest AUC: 0.7743156445591723'"
      ]
     },
     "metadata": {},
     "output_type": "display_data"
    },
    {
     "data": {
      "text/plain": [
       "'XGBoost AUC: 0.7865243198596896'"
      ]
     },
     "metadata": {},
     "output_type": "display_data"
    }
   ],
   "source": [
    "# Display the AUC scores for the different models\n",
    "display('Baseline Random Forest AUC: ' + str(roc_auc_score(y_test, rf_base_probs)))\n",
    "display('Reduced Feature Random Forest AUC: ' + str(roc_auc_score(y_test, rfe_rf_probs)))\n",
    "display('Grid Search Random Forest AUC: ' + str(roc_auc_score(y_test, rf_grid_probs)))\n",
    "display('XGBoost AUC: ' + str(roc_auc_score(y_test, xgb_probs)))"
   ]
  },
  {
   "cell_type": "markdown",
   "metadata": {},
   "source": [
    "All 4 models are very close in performance, but the up-sampled XGBoost model slightly out-performed the Random Forest models. With additional time, a logloss performance comparison would be evaluated in addition to AUC. In situations where models are relatively close to each other in AUC (which takes into account appropriate labeling), logloss would weigh the prediction probabilities’ confidence in their label, rather than just whether the predicted label agreed with the ground truth label."
   ]
  }
 ],
 "metadata": {
  "kernelspec": {
   "display_name": "Python 3",
   "language": "python",
   "name": "python3"
  },
  "language_info": {
   "codemirror_mode": {
    "name": "ipython",
    "version": 3
   },
   "file_extension": ".py",
   "mimetype": "text/x-python",
   "name": "python",
   "nbconvert_exporter": "python",
   "pygments_lexer": "ipython3",
   "version": "3.7.2"
  }
 },
 "nbformat": 4,
 "nbformat_minor": 2
}
